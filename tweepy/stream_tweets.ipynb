{
 "cells": [
  {
<<<<<<< HEAD
   "cell_type": "markdown",
   "metadata": {},
   "source": [
    "# Stream tweets"
   ]
  },
  {
   "cell_type": "markdown",
   "metadata": {},
   "source": [
    "## Import libraries"
   ]
  },
  {
=======
>>>>>>> 386a160a52747da40a10a4156bd42892b1b2eaa7
   "cell_type": "code",
   "execution_count": 1,
   "metadata": {},
   "outputs": [],
   "source": [
    "import tweepy\n",
    "import pandas as pd\n",
<<<<<<< HEAD
    "from datetime import datetime\n",
    "import sys\n",
    "import time\n",
=======
    "from textblob import TextBlob\n",
    "from datetime import datetime\n",
    "import time\n",
    "import ast\n",
    "from os import listdir\n",
    "from os.path import isfile, join\n",
    "import matplotlib.pyplot as plt\n",
    "from wordcloud import WordCloud, STOPWORDS\n",
    "import sys\n",
>>>>>>> 386a160a52747da40a10a4156bd42892b1b2eaa7
    "sys.path.insert(1, 'C:\\\\Users\\\\raide\\\\OneDrive\\\\Documents\\\\GitHub\\\\capstone_project\\\\scraping')\n",
    "sys.path.insert(1, 'C:\\\\Users\\\\raide\\\\OneDrive\\\\Documents\\\\GitHub\\\\capstone_project\\\\constants')\n",
    "from scrape_hashtags import get_hashtag_stats\n",
    "from constants import get_matteo_twitter_creds, get_michael_twitter_creds\n",
    "\n",
    "access_token, access_token_secret, consumer_key, consumer_secret = get_michael_twitter_creds()"
   ]
  },
  {
   "cell_type": "markdown",
   "metadata": {},
   "source": [
    "## Get hashtag data\n",
<<<<<<< HEAD
    "Using food words from [Enchanted Learning](https://www.enchantedlearning.com/wordlist/food.shtml), we can capture an abundance of food words and supply them to the [RiteKit's hashtag comparer](https://ritekit.com/developer/login/) to learn about the statistics of the hashtag over time."
=======
    "Ideally, will have a way to get important hashtags, evaluate their exposure/popularity, and then feed it into the scraping function."
>>>>>>> 386a160a52747da40a10a4156bd42892b1b2eaa7
   ]
  },
  {
   "cell_type": "code",
   "execution_count": 2,
   "metadata": {},
   "outputs": [
    {
     "data": {
      "text/html": [
       "<div>\n",
       "<style scoped>\n",
       "    .dataframe tbody tr th:only-of-type {\n",
       "        vertical-align: middle;\n",
       "    }\n",
       "\n",
       "    .dataframe tbody tr th {\n",
       "        vertical-align: top;\n",
       "    }\n",
       "\n",
       "    .dataframe thead th {\n",
       "        text-align: right;\n",
       "    }\n",
       "</style>\n",
       "<table border=\"1\" class=\"dataframe\">\n",
       "  <thead>\n",
       "    <tr style=\"text-align: right;\">\n",
       "      <th></th>\n",
       "      <th>hashtag</th>\n",
       "      <th>unique_tweets_per_hour</th>\n",
       "      <th>retweets_per_hour</th>\n",
       "      <th>views_per_hour</th>\n",
       "    </tr>\n",
       "  </thead>\n",
       "  <tbody>\n",
       "    <tr>\n",
       "      <th>0</th>\n",
       "      <td>apple</td>\n",
<<<<<<< HEAD
       "      <td>129</td>\n",
       "      <td>96</td>\n",
       "      <td>351000</td>\n",
=======
       "      <td>167</td>\n",
       "      <td>125</td>\n",
       "      <td>6161321</td>\n",
>>>>>>> 386a160a52747da40a10a4156bd42892b1b2eaa7
       "    </tr>\n",
       "    <tr>\n",
       "      <th>1</th>\n",
       "      <td>avocado</td>\n",
       "      <td>4</td>\n",
<<<<<<< HEAD
       "      <td>0</td>\n",
       "      <td>9800</td>\n",
       "    </tr>\n",
       "    <tr>\n",
       "      <th>2</th>\n",
       "      <td>bake</td>\n",
       "      <td>12</td>\n",
       "      <td>0</td>\n",
       "      <td>20458</td>\n",
       "    </tr>\n",
       "    <tr>\n",
       "      <th>3</th>\n",
       "      <td>banana</td>\n",
       "      <td>12</td>\n",
       "      <td>5</td>\n",
       "      <td>2542</td>\n",
       "    </tr>\n",
       "    <tr>\n",
       "      <th>4</th>\n",
       "      <td>barbecue</td>\n",
       "      <td>4</td>\n",
       "      <td>0</td>\n",
       "      <td>7462</td>\n",
=======
       "      <td>4</td>\n",
       "      <td>3750</td>\n",
       "    </tr>\n",
       "    <tr>\n",
       "      <th>2</th>\n",
       "      <td>bacon</td>\n",
       "      <td>4</td>\n",
       "      <td>13</td>\n",
       "      <td>2221</td>\n",
       "    </tr>\n",
       "    <tr>\n",
       "      <th>3</th>\n",
       "      <td>bake</td>\n",
       "      <td>21</td>\n",
       "      <td>0</td>\n",
       "      <td>5238</td>\n",
       "    </tr>\n",
       "    <tr>\n",
       "      <th>4</th>\n",
       "      <td>banana</td>\n",
       "      <td>8</td>\n",
       "      <td>21</td>\n",
       "      <td>950</td>\n",
>>>>>>> 386a160a52747da40a10a4156bd42892b1b2eaa7
       "    </tr>\n",
       "    <tr>\n",
       "      <th>...</th>\n",
       "      <td>...</td>\n",
       "      <td>...</td>\n",
       "      <td>...</td>\n",
       "      <td>...</td>\n",
       "    </tr>\n",
       "    <tr>\n",
       "      <th>460</th>\n",
<<<<<<< HEAD
       "      <td>wok</td>\n",
       "      <td>0</td>\n",
       "      <td>4</td>\n",
       "      <td>0</td>\n",
       "    </tr>\n",
       "    <tr>\n",
       "      <th>461</th>\n",
       "      <td>yeast</td>\n",
       "      <td>4</td>\n",
       "      <td>0</td>\n",
       "      <td>333</td>\n",
       "    </tr>\n",
       "    <tr>\n",
       "      <th>462</th>\n",
       "      <td>yogurt</td>\n",
       "      <td>4</td>\n",
       "      <td>0</td>\n",
       "      <td>4346</td>\n",
=======
       "      <td>watermelon</td>\n",
       "      <td>4</td>\n",
       "      <td>0</td>\n",
       "      <td>8</td>\n",
       "    </tr>\n",
       "    <tr>\n",
       "      <th>461</th>\n",
       "      <td>whey</td>\n",
       "      <td>4</td>\n",
       "      <td>0</td>\n",
       "      <td>8062</td>\n",
       "    </tr>\n",
       "    <tr>\n",
       "      <th>462</th>\n",
       "      <td>wok</td>\n",
       "      <td>0</td>\n",
       "      <td>4</td>\n",
       "      <td>0</td>\n",
>>>>>>> 386a160a52747da40a10a4156bd42892b1b2eaa7
       "    </tr>\n",
       "    <tr>\n",
       "      <th>463</th>\n",
       "      <td>yolk</td>\n",
       "      <td>0</td>\n",
       "      <td>4</td>\n",
       "      <td>0</td>\n",
       "    </tr>\n",
       "    <tr>\n",
       "      <th>464</th>\n",
       "      <td>zucchini</td>\n",
       "      <td>4</td>\n",
       "      <td>0</td>\n",
       "      <td>4488</td>\n",
       "    </tr>\n",
       "  </tbody>\n",
       "</table>\n",
       "<p>465 rows × 4 columns</p>\n",
       "</div>"
      ],
      "text/plain": [
<<<<<<< HEAD
       "      hashtag  unique_tweets_per_hour  retweets_per_hour  views_per_hour\n",
       "0       apple                     129                 96          351000\n",
       "1     avocado                       4                  0            9800\n",
       "2        bake                      12                  0           20458\n",
       "3      banana                      12                  5            2542\n",
       "4    barbecue                       4                  0            7462\n",
       "..        ...                     ...                ...             ...\n",
       "460       wok                       0                  4               0\n",
       "461     yeast                       4                  0             333\n",
       "462    yogurt                       4                  0            4346\n",
       "463      yolk                       0                  4               0\n",
       "464  zucchini                       4                  0            4488\n",
=======
       "        hashtag  unique_tweets_per_hour  retweets_per_hour  views_per_hour\n",
       "0         apple                     167                125         6161321\n",
       "1       avocado                       4                  4            3750\n",
       "2         bacon                       4                 13            2221\n",
       "3          bake                      21                  0            5238\n",
       "4        banana                       8                 21             950\n",
       "..          ...                     ...                ...             ...\n",
       "460  watermelon                       4                  0               8\n",
       "461        whey                       4                  0            8062\n",
       "462         wok                       0                  4               0\n",
       "463        yolk                       0                  4               0\n",
       "464    zucchini                       4                  0            4488\n",
>>>>>>> 386a160a52747da40a10a4156bd42892b1b2eaa7
       "\n",
       "[465 rows x 4 columns]"
      ]
     },
     "execution_count": 2,
     "metadata": {},
     "output_type": "execute_result"
    }
   ],
   "source": [
    "# Capture food words from https://www.enchantedlearning.com/wordlist/food.shtml\n",
    "df = get_hashtag_stats()\n",
<<<<<<< HEAD
    "df[['unique_tweets_per_hour', 'retweets_per_hour', 'views_per_hour']] = df[['unique_tweets_per_hour', 'retweets_per_hour', 'views_per_hour']].apply(pd.to_numeric)\n",
=======
>>>>>>> 386a160a52747da40a10a4156bd42892b1b2eaa7
    "df"
   ]
  },
  {
<<<<<<< HEAD
   "cell_type": "markdown",
   "metadata": {},
   "source": [
    "## Prepare data for streaming"
=======
   "cell_type": "code",
   "execution_count": 6,
   "metadata": {},
   "outputs": [],
   "source": [
    "df[['unique_tweets_per_hour', 'retweets_per_hour', 'views_per_hour']] = df[['unique_tweets_per_hour', 'retweets_per_hour', 'views_per_hour']].apply(pd.to_numeric)"
>>>>>>> 386a160a52747da40a10a4156bd42892b1b2eaa7
   ]
  },
  {
   "cell_type": "code",
<<<<<<< HEAD
   "execution_count": 4,
   "metadata": {},
   "outputs": [],
   "source": [
    "# Extract words and words as hashtags\n",
=======
   "execution_count": 7,
   "metadata": {},
   "outputs": [],
   "source": [
>>>>>>> 386a160a52747da40a10a4156bd42892b1b2eaa7
    "all_words = df.hashtag.tolist()\n",
    "all_hashtags = ['#' + s for s in all_words]"
   ]
  },
  {
   "cell_type": "code",
<<<<<<< HEAD
   "execution_count": 5,
=======
   "execution_count": 10,
>>>>>>> 386a160a52747da40a10a4156bd42892b1b2eaa7
   "metadata": {},
   "outputs": [
    {
     "name": "stdout",
     "output_type": "stream",
     "text": [
<<<<<<< HEAD
      "Out of the 465 hashtags in the raw data, 20 received >= 100000 views.\n"
=======
      "Out of the 465 hashtags in the raw data, 29 received >= 100000 views.\n"
>>>>>>> 386a160a52747da40a10a4156bd42892b1b2eaa7
     ]
    }
   ],
   "source": [
<<<<<<< HEAD
    "# Filter hashtags by those that have been viewed more than 100K times in the past hour\n",
=======
>>>>>>> 386a160a52747da40a10a4156bd42892b1b2eaa7
    "exposed_hashtags = df[df.views_per_hour >= 100000]\n",
    "exposed_hashtags_words = [s for s in exposed_hashtags.hashtag.tolist()]\n",
    "exposed_hashtags_hashtags = ['#' + s for s in exposed_hashtags_words]\n",
    "exposed_hashtags_and_words = exposed_hashtags_words + exposed_hashtags_hashtags\n",
    "print(f\"Out of the {df.shape[0]} hashtags in the raw data, {exposed_hashtags.shape[0]} received >= 100000 views.\")"
   ]
  },
  {
<<<<<<< HEAD
   "cell_type": "markdown",
   "metadata": {},
   "source": [
    "## Create a wrapper for tweepy.Stream"
   ]
  },
  {
   "cell_type": "code",
   "execution_count": 48,
   "metadata": {},
   "outputs": [],
   "source": [
    "class FoodScraper(tweepy.Stream):\n",
    "    \n",
    "    # Create ability to specify a time limit in seconds for the scrape to run\n",
    "    def __init__(self, consumer_key, consumer_secret, access_token, access_token_secret, max_retries, time_limit):\n",
    "        self.max_retries = max_retries\n",
    "        self.time_limit = time_limit\n",
    "        self.start_time = time.time()\n",
    "        self.captured_tweets = 0\n",
    "        self.missed_tweets = 0\n",
    "        super().__init__(consumer_key, consumer_secret, access_token, access_token_secret) # required for tweepy.Stream\n",
    "        \n",
    "    # Create dataframe when connection is established\n",
=======
   "cell_type": "code",
   "execution_count": 11,
   "metadata": {},
   "outputs": [],
   "source": [
    "class HandleExceptions(tweepy.Stream):\n",
    "    \n",
    "    def on_connection_error(self):\n",
    "        self.disconnect()\n",
    "        print(f'Stream has disconnected.\\nNumber of tweets streamed: {self.captured_tweets}]\\nNumber of tweets missed: {self.missed_tweets}\\nPercent of tweets streamed that were captured: {self.missed_tweets / self.captured_tweets * 100}')\n",
    "        return self.df\n",
    "        \n",
    "    def on_closed(self, response):\n",
    "        print('Response', response)\n",
    "        self.disconnect()\n",
    "        print(f'Stream has disconnected.\\nNumber of tweets streamed: {self.captured_tweets}]\\nNumber of tweets missed: {self.missed_tweets}\\nPercent of tweets streamed that were captured: {self.missed_tweets / self.captured_tweets * 100}')\n",
    "        return self.df\n",
    "    \n",
    "    def on_disconnect(self):\n",
    "        self.disconnect()\n",
    "        print(f'Stream has disconnected.\\nNumber of tweets streamed: {self.captured_tweets}]\\nNumber of tweets missed: {self.missed_tweets}\\nPercent of tweets streamed that were captured: {self.missed_tweets / self.captured_tweets * 100}')\n",
    "        return self.df\n",
    "    \n",
    "    def on_exception(self, exception):\n",
    "        print('An exception occurred:', exception)\n",
    "        self.disconnect()\n",
    "        print(f'Stream has disconnected.\\nNumber of tweets streamed: {self.captured_tweets}]\\nNumber of tweets missed: {self.missed_tweets}\\nPercent of tweets streamed that were captured: {self.missed_tweets / self.captured_tweets * 100}')\n",
    "        return self.df\n",
    "        \n",
    "    def on_request_error(self, status_code):\n",
    "        print('An error occurred:', status_code)\n",
    "        self.disconnect()\n",
    "        print(f'Stream has disconnected.\\nNumber of tweets streamed: {self.captured_tweets}]\\nNumber of tweets missed: {self.missed_tweets}\\nPercent of tweets streamed that were captured: {self.missed_tweets / self.captured_tweets * 100}')\n",
    "        return self.df\n",
    "\n",
    "class FoodScraper(tweepy.Stream):\n",
    "    \n",
>>>>>>> 386a160a52747da40a10a4156bd42892b1b2eaa7
    "    def on_connect(self):\n",
    "        self.df = pd.DataFrame(columns = [  'created_at',\n",
    "                                            'tweet_id',\n",
    "                                            'user_id',\n",
    "                                            'user_name',\n",
    "                                            'screen_name',\n",
    "                                            'verified',\n",
    "                                            'text',\n",
    "                                            'quote_tweet',\n",
    "                                            'rewteet_count',\n",
    "                                            'favorite_count',\n",
    "                                            'place',\n",
    "                                            'quote_status_id',\n",
<<<<<<< HEAD
    "                                            'entities'])\n",
    "        \n",
    "    # When a tweet is retrieved, capture its information in a list and add it to the dataframe\n",
    "    def on_status(self, status):\n",
    "        # Limit stream runtime\n",
    "        if time.time() - self.start_time < self.time_limit:\n",
    "            try:\n",
    "                self.captured_tweets += 1\n",
    "                created_at = status.created_at\n",
    "                tweet_id = status.id\n",
    "                user_id = status.user.id\n",
    "                user_name = status.user.name\n",
    "                screen_name = status.user.screen_name\n",
    "                verified = status.user.verified\n",
    "                text = status.text\n",
    "                quote_tweet = status.is_quote_status\n",
    "                rewteet_count = status.retweet_count\n",
    "                favorite_count = status.favorite_count\n",
    "                \n",
    "                # Not nullable fields\n",
    "                try:\n",
    "                    place = status.place\n",
    "                    quote_status_id = status.quoted_status_id\n",
    "                    hashtags = status.entities.hashtags\n",
    "                except:\n",
    "                    place = None\n",
    "                    quote_status_id = None\n",
    "                    hashtags = None\n",
    "\n",
    "                # Create list of tweet info\n",
    "                self.tweets = [ created_at,\n",
    "                                tweet_id,\n",
    "                                user_id,\n",
    "                                user_name,\n",
    "                                screen_name,\n",
    "                                verified,\n",
    "                                text,\n",
    "                                quote_tweet,\n",
    "                                rewteet_count,\n",
    "                                favorite_count,\n",
    "                                place,\n",
    "                                quote_status_id,\n",
    "                                hashtags]\n",
    "                \n",
    "                # Add tweet info to dataframe\n",
    "                self.df.loc[len(self.df)] = self.tweets\n",
    "                \n",
    "                # Count tweets\n",
    "                self.captured_tweets += 1\n",
    "                print(f'Tweets streamed: {self.captured_tweets}')\n",
    "            \n",
    "            # If an error occurs, write the data to the directory and disconnect the stream\n",
    "            except:\n",
    "                to_csv_timestamp = datetime.today().strftime('%Y%m%d_%H%M%S_')\n",
    "                path = r'C:\\Users\\raide\\OneDrive\\Documents\\GitHub\\capstone_project\\data\\stream\\enchanted_food_list'\n",
    "                filename = '\\\\' + to_csv_timestamp + 'exposed_food_tweets.csv'\n",
    "                self.df.to_csv(path + filename, index=False)\n",
    "                self.disconnect()\n",
    "                \n",
    "        # When the time limit is reached\n",
    "        else:\n",
    "            to_csv_timestamp = datetime.today().strftime('%Y%m%d_%H%M%S_')\n",
    "            path = r'C:\\Users\\raide\\OneDrive\\Documents\\GitHub\\capstone_project\\data\\stream\\enchanted_food_list'\n",
    "            filename = '\\\\' + to_csv_timestamp + 'exposed_food_tweets.csv'\n",
    "            self.df.to_csv(path + filename, index=False)\n",
    "            self.disconnect()\n",
    "    \n",
    "    # Exception handling\n",
    "    def on_limit(self, track):\n",
    "        self.missed_tweets += track\n",
    "\n",
    "    def on_connection_error(self):\n",
    "        self.disconnect()\n",
    "        try:\n",
    "            print(f'Stream has disconnected.\\nNumber of tweets streamed: {self.captured_tweets}\\nNumber of tweets missed: {self.missed_tweets}\\nPercent of tweets streamed that were missed: {self.missed_tweets / self.captured_tweets * 100}')\n",
    "        except:\n",
    "            print('No tweets were found')\n",
    "        return \n",
    "        \n",
    "    def on_closed(self, response):\n",
    "        print('Response', response)\n",
    "        self.disconnect()\n",
    "        print('\\nConnection has closed')\n",
    "        return \n",
    "    \n",
    "    def on_disconnect(self):\n",
    "        self.disconnect()\n",
    "        try:\n",
    "            print(f'Stream has disconnected.\\nNumber of tweets streamed: {self.captured_tweets}\\nNumber of tweets missed: {self.missed_tweets}\\nPercent of tweets streamed that were missed: {self.missed_tweets / self.captured_tweets * 100}')\n",
    "        except:\n",
    "            print('No tweets were found')\n",
    "        return \n",
    "    \n",
    "    def on_exception(self, exception):\n",
    "        print('An exception occurred:', exception)\n",
    "        try:\n",
    "            print(f'Stream has disconnected.\\nNumber of tweets streamed: {self.captured_tweets}\\nNumber of tweets missed: {self.missed_tweets}\\nPercent of tweets streamed that were missed: {self.missed_tweets / self.captured_tweets * 100}')\n",
    "        except:\n",
    "            print('No tweets were found')\n",
    "        return \n",
    "        \n",
    "    def on_request_error(self, status_code):\n",
    "        print('An error occurred:', status_code)\n",
    "        try:\n",
    "            print(f'Stream has disconnected.\\nNumber of tweets streamed: {self.captured_tweets}\\nNumber of tweets missed: {self.missed_tweets}\\nPercent of tweets streamed that were missed: {self.missed_tweets / self.captured_tweets * 100}')\n",
    "        except:\n",
    "            print('No tweets were found')\n",
    "        return "
   ]
  },
  {
   "cell_type": "markdown",
   "metadata": {},
   "source": [
    "## Define the scraper and run for a specified length of time."
=======
    "                                            'hashtags'])\n",
    "\n",
    "    def on_status(self, status):\n",
    "        self.captured_tweets = 0\n",
    "        created_at = status.created_at\n",
    "        tweet_id = status.id\n",
    "        user_id = status.user.id\n",
    "        user_name = status.user.name\n",
    "        screen_name = status.user.screen_name\n",
    "        verified = status.user.verified\n",
    "        text = status.text\n",
    "        quote_tweet = status.is_quote_status\n",
    "        rewteet_count = status.retweet_count\n",
    "        favorite_count = status.favorite_count\n",
    "        \n",
    "        try:\n",
    "            place = status.place.bounding_box\n",
    "            quote_status_id = status.quoted_status_id\n",
    "            hashtags = status.entities.hashtags\n",
    "        except:\n",
    "            place = None\n",
    "            quote_status_id = None\n",
    "            hashtags = None\n",
    "            \n",
    "        self.tweets = [ created_at,\n",
    "                        tweet_id,\n",
    "                        user_id,\n",
    "                        user_name,\n",
    "                        screen_name,\n",
    "                        verified,\n",
    "                        text,\n",
    "                        quote_tweet,\n",
    "                        rewteet_count,\n",
    "                        favorite_count,\n",
    "                        place,\n",
    "                        quote_status_id,\n",
    "                        hashtags]\n",
    "        \n",
    "        self.captured_tweets += 1\n",
    "        self.df.loc[len(self.df)] = self.tweets\n",
    "        print(self.tweets)\n",
    "    \n",
    "    def on_limit(self, track):\n",
    "        self.missed_tweets = 0\n",
    "        self.missed_tweets += track\n",
    "\n",
    "    def exceptions(self):\n",
    "        HandleExceptions(self)"
   ]
  },
  {
   "cell_type": "code",
   "execution_count": 7,
   "metadata": {},
   "outputs": [
    {
     "name": "stdout",
     "output_type": "stream",
     "text": [
      "[datetime.datetime(2021, 10, 16, 19, 44, 22, tzinfo=datetime.timezone.utc), 1449461232126373909, 1869812658, 'stayW ~gettr *', 'StayTelavi', False, \"RT @RealPNavarro: Fire Fauci Video ad debuts on John Fredericks and War Room next week.  Here's your sneak peek.  FULL REPARATIONS FROM CCP…\", False, 0, 0, None, None, None]\n",
      "[datetime.datetime(2021, 10, 16, 19, 44, 22, tzinfo=datetime.timezone.utc), 1449461232893775872, 872557380705239040, 'JK 🦇', 'JK_9505', False, 'How appropriate that today\\'s word was \"candy\" just after the choco chicken thing, the irony 🤣', False, 0, 0, None, None, None]\n",
      "[datetime.datetime(2021, 10, 16, 19, 44, 22, tzinfo=datetime.timezone.utc), 1449461233082589188, 1013637254726766592, 'roses', 'kairalet13k', False, 'RT @SGChartUpdate: “Let Somebody Go” by Selena Gomez and #Coldplay enters the Top 15 (#14) on the Apple Music Worldwide Chart. 🌎 \\n\\nhttps://…', False, 0, 0, None, None, None]\n",
      "[datetime.datetime(2021, 10, 16, 19, 44, 22, tzinfo=datetime.timezone.utc), 1449461232956846086, 4180002197, 'Amanda - 백현✨', '_AmandaR__', False, \"RT @SuperB_456: #BAEKHYUN's #CANDY is so close to 60M plays on #Spotify:\\n\\nKeep streaming this masterpiece: https://t.co/PyYD0jZEWU\\n\\n#백현 #Ge…\", False, 0, 0, None, None, None]\n",
      "[datetime.datetime(2021, 10, 16, 19, 44, 22, tzinfo=datetime.timezone.utc), 1449461233711816714, 1239798042821382144, 'Mr. Wuggums❤️🎃 & DJ Heri Halloween🎶👻', 'MrWuggums', False, 'RT @MrWuggums: @theruffriderz Through the wonderful slowness of Twitter I am just now seeing this!😹\\n\\nI shall happily plug the fact that we…', False, 0, 0, None, None, None]\n",
      "[datetime.datetime(2021, 10, 16, 19, 44, 22, tzinfo=datetime.timezone.utc), 1449461233242058756, 1203775111368728577, 'Dessert Porn', 'DessertPassion', False, 'Cheesecake 🍰🔥🍰🤤 #Food #Dessert https://t.co/rYbVhGJRG7', False, 0, 0, None, None, None]\n",
      "[datetime.datetime(2021, 10, 16, 19, 44, 22, tzinfo=datetime.timezone.utc), 1449461234177355778, 1386760797037154307, 'Mediaguy Zelkova', 'MediaguyZelkova', False, 'RT @CuckJoey: am i the only one that can’t eat at hooters like for 1 the food mid and 2 im surrounded by niggas being forcibly sexualized w…', False, 0, 0, None, None, None]\n",
      "[datetime.datetime(2021, 10, 16, 19, 44, 22, tzinfo=datetime.timezone.utc), 1449461234407858177, 1220666858849869824, 'spoopy mel👻™', 'ChaosIsMel', False, \"@salemrose20 @alicelium You aren't trans honey shut up\", False, 0, 0, None, None, None]\n",
      "[datetime.datetime(2021, 10, 16, 19, 44, 22, tzinfo=datetime.timezone.utc), 1449461234672226305, 3290465691, 'Jared Wise', 'GAgatorjared', False, '@ScottStricklin fire everyone. If you don’t then @PresidentFuchs should fire you. #gators #GoGators', False, 0, 0, None, None, None]\n",
      "[datetime.datetime(2021, 10, 16, 19, 44, 22, tzinfo=datetime.timezone.utc), 1449461234663923712, 2498106277, '漂亮的婊子', 'tightdount', False, 'RT @BigDickRjXXX: Shot some hot content with the super hot 🥵🔥💦 @Cameron_Skye1 \\ncoming to Onlyfans soon! 😈 \\n\\n#milf #interracial #buyingconte…', False, 0, 0, None, None, None]\n",
      "[datetime.datetime(2021, 10, 16, 19, 44, 22, tzinfo=datetime.timezone.utc), 1449461235477585931, 3221389956, 'Imran Khan', 'Mozibur116', False, 'RT @Anuya94419796: Desi lover record thr hot https://t.co/ZbzYBRIg0U', False, 0, 0, None, None, None]\n",
      "[datetime.datetime(2021, 10, 16, 19, 44, 22, tzinfo=datetime.timezone.utc), 1449461235641196548, 1316851810527784960, 'joy', 'enhafun', False, 'RT @pshflckr: #ENHYPEN Twitter Milestones!\\n\\n1M —  09/29/20 (10 days)\\n2M — 02/12/21 (147 days)\\n3M — 06/05/21 (260 days)\\n4M — 08/17/21 (332 d…', False, 0, 0, None, None, None]\n",
      "[datetime.datetime(2021, 10, 16, 19, 44, 23, tzinfo=datetime.timezone.utc), 1449461236018475009, 2901906121, 'That One Tall Girl', 'HennyandB', False, 'RT @DIGITALG00N: 8 year old me sucking water out my washcloth in the shower', True, 0, 0, None, None, None]\n",
      "[datetime.datetime(2021, 10, 16, 19, 44, 22, tzinfo=datetime.timezone.utc), 1449461235687333889, 1440385481334689793, 'Oz.berk', 'Ozeberk2021', False, 'RT @MesmarRania: i nominate #gokberkdemirci #GökberkDemirci from Turkey the celebrity of year 2021, as well the most handsome face and the…', False, 0, 0, None, None, None]\n",
      "[datetime.datetime(2021, 10, 16, 19, 44, 23, tzinfo=datetime.timezone.utc), 1449461236194676738, 187510655, 'PEK\\u200f\\u200e\\u200eجین', 'Jayan_korba', False, \"RT @thevirdas: Someone let them know if they ever read that something is 'lit' or 'fire'...please do not call the electricity or fire depar…\", True, 0, 0, None, None, None]\n",
      "[datetime.datetime(2021, 10, 16, 19, 44, 23, tzinfo=datetime.timezone.utc), 1449461236148543492, 490989354, 'Tessa “FireFox” VB', 'tessateslafox', False, 'Outdoor Halloween Hall tonight! Excited to dress up, get candy, see my friend’s Hobbit booth. \\n\\nBonus is my parents… https://t.co/BkHMcrGaVa', False, 0, 0, None, None, None]\n",
      "[datetime.datetime(2021, 10, 16, 19, 44, 23, tzinfo=datetime.timezone.utc), 1449461236266110983, 1381698288412459012, 'Sage :D', 'Sleepyhoneybee2', False, '@MrCumsTwts Ikr so hot 🥵/j i look like fucking edina from incredible(think thats her name) and dora', False, 0, 0, None, None, None]\n",
      "[datetime.datetime(2021, 10, 16, 19, 44, 23, tzinfo=datetime.timezone.utc), 1449461236157063169, 1359269240814075912, 'mabel 🌸🕵🏻\\u200d♀️LET SOMEBODY GO', 'smariegomez2', False, '@selenagomez girrrrrrrrl release the music video 😩', True, 0, 0, None, None, None]\n",
      "[datetime.datetime(2021, 10, 16, 19, 44, 22, tzinfo=datetime.timezone.utc), 1449461235779608581, 1738051154, 'WiseOleGuru', 'guru1039', False, 'I’m not a fire the coach kinda guy but we need to make wholesale changes on D…no excuse for losing a game to a team… https://t.co/BHZNQ1sNDD', False, 0, 0, None, None, None]\n",
      "[datetime.datetime(2021, 10, 16, 19, 44, 22, tzinfo=datetime.timezone.utc), 1449461235666227202, 403496355, 'THE REYES GROUP', 'TheReyesGroup', False, 'Lox and Bagels for a quick Bite...\\n\\n#Salmon #Bagels #Cream #Cheese #Caper #Onion #Party #Drinks #Food #Wine… https://t.co/IcNt7joakj', False, 0, 0, None, None, None]\n",
      "[datetime.datetime(2021, 10, 16, 19, 44, 23, tzinfo=datetime.timezone.utc), 1449461236530171911, 1449457955905028099, 'jayla', 'Jaylalaa_', False, 'RT @teteughh: find the real bread [level: hard] https://t.co/9dQMu4qMbN', False, 0, 0, None, None, None]\n",
      "[datetime.datetime(2021, 10, 16, 19, 44, 23, tzinfo=datetime.timezone.utc), 1449461236656062464, 1093279946015858688, 'Dr. Conald Petersen, MD PhD', 'atyour4winds', False, '@JohnBurgJr @matthewloop You are a 🤡. Unopen to anything that challenges your preconceived incorrect curated “ fact… https://t.co/iFn7gf9hNa', False, 0, 0, None, None, None]\n",
      "[datetime.datetime(2021, 10, 16, 19, 44, 23, tzinfo=datetime.timezone.utc), 1449461236794597379, 1234449268133502976, 'Catriona', 'Looby13693743', False, 'RT @Azeem_Majeed: Mandatory training: Why is it that NHS England seem more concerned that I know what colour fire extinguisher I should in…', False, 0, 0, None, None, None]\n",
      "[datetime.datetime(2021, 10, 16, 19, 44, 23, tzinfo=datetime.timezone.utc), 1449461236542935046, 902085562659688448, 'matty', 'problematty81', False, 'RT @saoasflores: Ivi was the Cypriot pop girl before being a Cypriot pop girl was cool #EurovisionAgain https://t.co/kIJIUvtHpe', False, 0, 0, None, None, None]\n",
      "[datetime.datetime(2021, 10, 16, 19, 44, 23, tzinfo=datetime.timezone.utc), 1449461237125894144, 2496222676, 'Slim_Gator', 'southlyfe_gold', False, 'RT @theebigbossSS: Coach O took your lunch money Grantham. Smh.', False, 0, 0, None, None, None]\n",
      "[datetime.datetime(2021, 10, 16, 19, 44, 23, tzinfo=datetime.timezone.utc), 1449461237172031488, 450144152, 'Brandon Journay', 'JournA_22', False, '@idkyutellme This is making me want an egg sandwich for dinner now', False, 0, 0, None, None, None]\n",
      "[datetime.datetime(2021, 10, 16, 19, 44, 23, tzinfo=datetime.timezone.utc), 1449461237473943557, 953105375447859200, 'mortal man', 'itssimplykelpy', False, \"RT @wykrhm: DOTA Dragon's Blood: Book Two Trailer — The story of Davion returns January 2022 with a lot of FIRE, DRAGONS, FIRE AND DRAGONS.…\", False, 0, 0, None, None, None]\n",
      "[datetime.datetime(2021, 10, 16, 19, 44, 23, tzinfo=datetime.timezone.utc), 1449461237696372736, 778986785166753792, 'kgwofd🌋ea🌋n', 'readthiswtf', False, \"@H3K473 I don't eat this trash, especially at those prices 😂 eyecandy is free candy\", False, 0, 0, None, None, None]\n",
      "[datetime.datetime(2021, 10, 16, 19, 44, 23, tzinfo=datetime.timezone.utc), 1449461238103044096, 1283018153383981057, 'namu🍭👅💗💕', 'maayyy023', False, 'RT @thejhopeprint: when the food is too tasty that Hobi’s face turns 😠 https://t.co/HKicDYrtyj', False, 0, 0, None, None, None]\n",
      "[datetime.datetime(2021, 10, 16, 19, 44, 23, tzinfo=datetime.timezone.utc), 1449461237872414722, 1211036948644544512, 'Kap0God', 'Kap0God', False, 'RT @Yourpop8: HOW COOL IS THAT!!!!! I love it!!!! Mine hasn’t come in yet 😍', True, 0, 0, None, None, None]\n",
      "[datetime.datetime(2021, 10, 16, 19, 44, 23, tzinfo=datetime.timezone.utc), 1449461238094712835, 363295355, 'everybody hates isaac', 'dyslexsaac', False, 'RT @Delikwu: There should really be an ‘adulting’ bootcamp when you turn 18', True, 0, 0, None, None, None]\n",
      "[datetime.datetime(2021, 10, 16, 19, 44, 23, tzinfo=datetime.timezone.utc), 1449461238451392519, 991453003621203970, 'Heather Nicole Fidler🌷🎼', 'HeatherFidler2', False, 'RT @TheSapidPantry: Lunch 😋 Philly Cheesesteak &amp; Meatball Sub 👌🏻 with @iLLResolveSys https://t.co/uxlcTEYX30', False, 0, 0, None, None, None]\n",
      "[datetime.datetime(2021, 10, 16, 19, 44, 23, tzinfo=datetime.timezone.utc), 1449461238694617099, 1183816041115406337, 'content buyer', 'aggies4life0213', False, 'If you accept Apple Pay I’m payment ready #buyingcontent #sellingcontent', False, 0, 0, None, None, None]\n",
      "[datetime.datetime(2021, 10, 16, 19, 44, 23, tzinfo=datetime.timezone.utc), 1449461239105540099, 1105191388600299520, 'Jenna Noelle 🩰 LA 13-17 / EX NJ', 'jennanoellexxx', False, '@LydiaBlackXo Yessss you look so hot!', False, 0, 0, None, None, None]\n",
      "[datetime.datetime(2021, 10, 16, 19, 44, 23, tzinfo=datetime.timezone.utc), 1449461239093121025, 1077559760, 'зарплата дракулоидами', 'paidindracs', False, 'me and my hot water bottle fighting for my life every night here', False, 0, 0, None, None, None]\n",
      "[datetime.datetime(2021, 10, 16, 19, 44, 23, tzinfo=datetime.timezone.utc), 1449461239458017283, 798217766, '🐺', 'ireneshyun', False, 'LIGHT OF MY LIFE FIRE OF MY LOINS https://t.co/moSG6qNA8B', False, 0, 0, None, None, None]\n",
      "[datetime.datetime(2021, 10, 16, 19, 44, 23, tzinfo=datetime.timezone.utc), 1449461240095412227, 901567481273229312, 'Kristen Sanders', 'Kristen04125925', False, 'RT @IGD_News: As a mass #strikewave kicks off: \\n🏴offer solidarity: food, banners + child-care. \\n🚩support + expand conflictual + self-organi…', False, 0, 0, None, None, None]\n",
      "[datetime.datetime(2021, 10, 16, 19, 44, 24, tzinfo=datetime.timezone.utc), 1449461240347168770, 980378285661130752, 'Martins Aniamaka', 'AniamakaMartins', False, \"RT @ronaldnzimora: You don't make good decisions if you don't know how you'll pay your rent or feed your kids.\\n\\n- Mark Januszewski\", False, 0, 0, None, None, None]\n",
      "[datetime.datetime(2021, 10, 16, 19, 44, 24, tzinfo=datetime.timezone.utc), 1449461240384954369, 1387479878, 'kp', 'pagelbagel92', False, 'RT @ThomasGoldkamp: He has to be, if for no other reason than the decision to retain Todd Grantham after the defense was historically bad i…', True, 0, 0, None, None, None]\n",
      "[datetime.datetime(2021, 10, 16, 19, 44, 23, tzinfo=datetime.timezone.utc), 1449461239323713538, 4876036149, 'Classic Hits Radio', 'classichitradio', False, '#chr2 Now playing the best hits rock pop dance Colorado - Milky Chance on https://t.co/ohBsqBT3JL https://t.co/d53iMAavLo', False, 0, 0, None, None, None]\n",
      "[datetime.datetime(2021, 10, 16, 19, 44, 24, tzinfo=datetime.timezone.utc), 1449461240711958529, 2765985741, 'Food.mancing', 'FormerlyCharles', False, '@TheAmberRmWhere God I just.  I.  Oh honey', False, 0, 0, None, None, None]\n",
      "[datetime.datetime(2021, 10, 16, 19, 44, 24, tzinfo=datetime.timezone.utc), 1449461240691101705, 1324532225359175680, 'sowhat🌱🐰🥕', 'ayohitman3', False, 'RT @riritzu: apple picking !! 🍎\\n\\n#SykkunoFanart https://t.co/OxGHAn5UNw', False, 0, 0, None, None, None]\n",
      "[datetime.datetime(2021, 10, 16, 19, 44, 24, tzinfo=datetime.timezone.utc), 1449461240867131392, 63835228, 'Pilar Maldonado⚡', 'pilaremr', False, 'RT @saylor: Join us Tuesday October 19 at 5pm EDT for our Q3 briefing on the State of the #Bitcoin Mining Industry, with an update on hash…', False, 0, 0, None, None, None]\n",
      "[datetime.datetime(2021, 10, 16, 19, 44, 24, tzinfo=datetime.timezone.utc), 1449461240988770305, 1030143671729979392, 'InTheKliq', 'inthekliq', False, 'Have you subscribed to @inthekliq on Apple Podcasts, Spotify, Google Podcasts or YouTube? https://t.co/9txzxmngI5', False, 0, 0, None, None, None]\n",
      "[datetime.datetime(2021, 10, 16, 19, 44, 24, tzinfo=datetime.timezone.utc), 1449461241320194049, 1364004528010498048, 'Kuflom', 'Kuflom01287975', False, 'RT @biniamb: Ensuring and enhancing food and nutrition security through improving agricultural production and productivity is among the top…', False, 0, 0, None, None, None]\n",
      "[datetime.datetime(2021, 10, 16, 19, 44, 24, tzinfo=datetime.timezone.utc), 1449461240967929856, 1362346797352579075, 'Ριχάρδος - Ζουμρούτ 💴💰💳', 'zumrut_anne', False, '@Dtopbeautyworld @HandeErcel I vote #HandeErçel from Turkey for\\xa0 #100MostBeautifulWomen2021 #TBworld2021\\xa0\\xa0 lm4rr', False, 0, 0, None, None, None]\n",
      "[datetime.datetime(2021, 10, 16, 19, 44, 24, tzinfo=datetime.timezone.utc), 1449461241152479234, 1081184294196768768, 'ᴮᴱADN⁷💜', 'Anusha2810', False, 'RT @thejhopeprint: Hoseok’s gesture to make sure Jungkook was okay after almost bumping him during their performance is just so??? Hot. htt…', False, 0, 0, None, None, None]\n",
      "[datetime.datetime(2021, 10, 16, 19, 44, 24, tzinfo=datetime.timezone.utc), 1449461241274064900, 350521560, 'Justin Andrews', 'JustinAndrews38', False, 'Inexcusable. Grantham has to be done and this officially makes Mullen on the hot seat in 2022', False, 0, 0, None, None, None]\n",
      "[datetime.datetime(2021, 10, 16, 19, 44, 24, tzinfo=datetime.timezone.utc), 1449461241504747525, 1179238452853911553, 'Legocat', 'Legocat2', False, 'RT @VioletWanderers: So. Labor shortage discourse time!\\n\\nI work for a food manufacturing company (specifically bottling/canning various bev…', False, 0, 0, None, None, None]\n",
      "[datetime.datetime(2021, 10, 16, 19, 44, 24, tzinfo=datetime.timezone.utc), 1449461241139793920, 1443483925586714627, 'The Indian Citizen', 'the_citi11', False, '@pakka_bhartiye Be it Tantric texts or old shakta literature, Pasubali is clearly mentioned as a ritual which pleas… https://t.co/tnxvNICf5s', False, 0, 0, None, None, None]\n",
      "[datetime.datetime(2021, 10, 16, 19, 44, 24, tzinfo=datetime.timezone.utc), 1449461241727143942, 348856036, 'Young Flower🌺🌴', 'ChefWaistline', False, 'Was SO anxious all day yesterday and today I’m in complete bliss. Love to see people enjoying my food😭🥰', False, 0, 0, None, None, None]\n",
      "[datetime.datetime(2021, 10, 16, 19, 44, 24, tzinfo=datetime.timezone.utc), 1449461242083483650, 798623903010541568, 'Michael Davis', 'MagooMikedavis', False, 'RT @Most_Maximus: Buy walkies and ham radios. Stock up on water and food and ammo. Make friends with your local farmers and veterans. \\n\\nI h…', False, 0, 0, None, None, None]\n",
      "[datetime.datetime(2021, 10, 16, 19, 44, 24, tzinfo=datetime.timezone.utc), 1449461241752260609, 1070223539586981888, '2in1', 'kalimer85566970', False, 'RT @FoxxPorn: 🔥THIS IS SO HOT🔥\\n\\n🤤 @Delicious_FF gets pounded 💦\\n\\n➡️  FOLLOW FOR EXCLUSIVE CONTENT\\n\\n💢@Delicious_FF 💢\\n\\n https://t.co/ByufsgE9Ns', False, 0, 0, None, None, None]\n",
      "[datetime.datetime(2021, 10, 16, 19, 44, 24, tzinfo=datetime.timezone.utc), 1449461242175705088, 1008694114638893058, 'Odel85', 'Odel851', False, 'RT @CycleTj: Eva May gets her pussy filled with hot cum\\n&gt;https://t.co/biplFUbqeJ\\n&gt;https://t.co/khECG5CtP5\\n&gt;https://t.co/qCg36SC8Hv https://…', False, 0, 0, None, None, None]\n",
      "[datetime.datetime(2021, 10, 16, 19, 44, 24, tzinfo=datetime.timezone.utc), 1449461242410803208, 1197136001090674690, 'Maryam ✨', 'Maaryamii_', False, 'Fantasies of my coffee shop/library 🤎☕️', False, 0, 0, None, None, None]\n",
      "[datetime.datetime(2021, 10, 16, 19, 44, 24, tzinfo=datetime.timezone.utc), 1449461242415009794, 1274372722907373568, '𝐼𝒸𝑒 𝒬𝓊𝑒𝑒𝓃', 'Cold_As_Ice__', False, 'Pizza it is.', True, 0, 0, None, None, None]\n",
      "[datetime.datetime(2021, 10, 16, 19, 44, 24, tzinfo=datetime.timezone.utc), 1449461242578423810, 1086088263360602112, 'Bubble trouble', 'Basil_leafeon', False, 'RT @Foxy_joy_: Day 16: Ghost Fire \\n\\n#inktoberTGCF #moonstgcftober #TGCF https://t.co/Athm59WBrF', False, 0, 0, None, None, None]\n",
      "[datetime.datetime(2021, 10, 16, 19, 44, 24, tzinfo=datetime.timezone.utc), 1449461242616324105, 1183719275833548802, 'Rev lonnie luv', 'creeplife11', False, 'RT @realjakayla404: 😜💦💦Text “Jakayla” to 762-248-2018 or Hit the link Below. Please be payment ready! Meet Ups Avaialble!\\n👇👇👇👇\\nhttps://t.co…', False, 0, 0, None, None, None]\n",
      "[datetime.datetime(2021, 10, 16, 19, 44, 24, tzinfo=datetime.timezone.utc), 1449461241802633221, 2836698171, 'Beth Wagoner', 'BWAG2004', False, 'Consider donating at the upcoming Blood Drive, Fri., 10/29!\\nhttps://t.co/F5EPwxj7a4 (*$10 per blood donor for a col… https://t.co/bIG3YgYH4E', False, 0, 0, None, None, None]\n",
      "[datetime.datetime(2021, 10, 16, 19, 44, 24, tzinfo=datetime.timezone.utc), 1449461242536529920, 48006401, '🌻🏴 Princess Unikitty ❤️ 💛 💚', 'Real_P_Unikitty', False, 'RT @jdcmedlock: Already own a pizza from Dominos? Collateralize it. Secure a loan financing another pizza. That pizza? Collateralize it too…', True, 0, 0, None, None, None]\n",
      "[datetime.datetime(2021, 10, 16, 19, 44, 24, tzinfo=datetime.timezone.utc), 1449461242884550656, 1248081076574027776, '🧐', 'BigGloFrm44', False, 'RT @jessethechef: How she be on the nuts', True, 0, 0, None, None, None]\n",
      "[datetime.datetime(2021, 10, 16, 19, 44, 24, tzinfo=datetime.timezone.utc), 1449461243094372352, 1281034516652572673, '8.24 🦇❤️\\u200d🔥', 'ohthatsshaw', False, 'if we talking and I break bread before you that’s a problem and we no longer talk 😗..', False, 0, 0, None, None, None]\n",
      "[datetime.datetime(2021, 10, 16, 19, 44, 24, tzinfo=datetime.timezone.utc), 1449461242389843977, 1349137338962763780, 'V', 'ChopperVee', False, 'Hot chocolate gang https://t.co/T810JL59UM', False, 0, 0, None, None, None]\n",
      "[datetime.datetime(2021, 10, 16, 19, 44, 24, tzinfo=datetime.timezone.utc), 1449461243505373186, 1143392641440260097, 'annies cool profile', 'iixkyaz', False, 'im so hot', False, 0, 0, None, None, None]\n",
      "[datetime.datetime(2021, 10, 16, 19, 44, 24, tzinfo=datetime.timezone.utc), 1449461243455102985, 1355083133897613313, 'Axis 𒌐', 'AxisCatboy64', False, 'this game gonna be fire i just know 😮\\u200d💨', False, 0, 0, None, None, None]\n",
      "[datetime.datetime(2021, 10, 16, 19, 44, 24, tzinfo=datetime.timezone.utc), 1449461243824128002, 1397458414343655424, 'k 💕', 'xstarchaser', False, 'RT @ZajiaNadal: Only dating men who can cook &gt;&gt;&gt;&gt; \\n\\nSuch a turn off when they can’t because how do you feed yourself everyday? You’re not a…', False, 0, 0, None, None, None]\n",
      "[datetime.datetime(2021, 10, 16, 19, 44, 24, tzinfo=datetime.timezone.utc), 1449461244096880642, 201488231, '👻 spooktometrist frank 🦇', 'StillUpMySleeve', False, 'yes, i spilled like 14 ounces of coffee on my sheets.\\n\\nand since it’s halloween szn, tbc i’m referring to period se… https://t.co/55GrfwYgFk', False, 0, 0, None, None, None]\n",
      "[datetime.datetime(2021, 10, 16, 19, 44, 24, tzinfo=datetime.timezone.utc), 1449461244314861572, 1402144540690063367, 'Sumit Saini', 'Sumit746786', False, 'RT @Philip_Michael: ****HOW TO OWN NEW YORK CITY REAL ESTATE FOR $100 (OR LESS)*** 🗣\\n\\nNo. Not a typo. This is actually real. \\n\\nYou can OWN…', False, 0, 0, None, None, None]\n",
      "[datetime.datetime(2021, 10, 16, 19, 44, 24, tzinfo=datetime.timezone.utc), 1449461244252016651, 711652192260849665, 'Tap Social Movement', 'tapsocialbrew', False, 'RT @casparhenderson: We almost went the whole way and ordered an entire bottle, but managed to resist. Great food and beer @tapsocialbrew h…', False, 0, 0, None, None, None]\n",
      "[datetime.datetime(2021, 10, 16, 19, 44, 24, tzinfo=datetime.timezone.utc), 1449461244025507849, 1430830563565387778, 'Richard Warren', 'Richard61982733', False, 'RT @BenGoldsmith: If you have hedges, please don’t cut them in autumn if you can possibly avoid it. The nuts and berries are on the outside…', False, 0, 0, None, None, None]\n",
      "[datetime.datetime(2021, 10, 16, 19, 44, 24, tzinfo=datetime.timezone.utc), 1449461244075839488, 247038875, 'OBX Jen 💙', 'OBXJEN', False, '@Minuteman04 The @GOP pick for Postmaster General we’re stuck with until the Board of Governors fire him.', False, 0, 0, None, None, None]\n",
      "[datetime.datetime(2021, 10, 16, 19, 44, 24, tzinfo=datetime.timezone.utc), 1449461244054867972, 900011081103429632, '🍫 Montivational Tongue………..and Dick', 'UGottaLuvMont', False, 'RT @SmoothMacadamia: Been saying this since 2015 @Apple', True, 0, 0, None, None, None]\n",
      "[datetime.datetime(2021, 10, 16, 19, 44, 25, tzinfo=datetime.timezone.utc), 1449461244507959306, 19070844, 'craig clark', 'cclark112263', False, 'General Strike.', True, 0, 0, None, None, None]\n",
      "[datetime.datetime(2021, 10, 16, 19, 44, 25, tzinfo=datetime.timezone.utc), 1449461245107605507, 770464717, '💫', 'TheKeenan', False, 'RT @ChefSemSoul: Platinum Kush x Fire OG infused Red Velvet Cupcakes with Cream ‘Cheese’ Frosting🧁 🍃 **Cupcakes are non-dairy** https://t.c…', False, 0, 0, None, None, None]\n",
      "[datetime.datetime(2021, 10, 16, 19, 44, 25, tzinfo=datetime.timezone.utc), 1449461244814110723, 289118612, 'Tomthunkit™', 'TomthunkitsMind', False, '10URGENT NEWS: UPDATE YOUR APPLE PRODUCTS NOW TO PREVENT A SECURITY BREACH.\\nApple issued emergency updates to fix a… https://t.co/1UOYuRmibO', False, 0, 0, None, None, None]\n",
      "[datetime.datetime(2021, 10, 16, 19, 44, 25, tzinfo=datetime.timezone.utc), 1449461245325709314, 257743498, 'Daniel Pinto', 'DanielPinto7890', False, 'RT @Celeb_Dachshund: “Oakley is the little spoon.. 🥄” \\n\\n~ Crusoe https://t.co/yusG23EXEN', False, 0, 0, None, None, None]\n",
      "[datetime.datetime(2021, 10, 16, 19, 44, 25, tzinfo=datetime.timezone.utc), 1449461245518786562, 1444847061174718473, 'HAL 9000 🇺🇸 ✝️ 🐊🏈', 'Hal9000B', False, \"@onlygators The hell with firing Grantham. What kind of head coach carries him over after last year's performance?… https://t.co/2dJZLtprQU\", False, 0, 0, None, None, None]\n",
      "[datetime.datetime(2021, 10, 16, 19, 44, 25, tzinfo=datetime.timezone.utc), 1449461245925478401, 285853739, 'Des ✨', 'scorpionic_des', False, 'I want a boy to look at me the way my cat does when I’m filling his food bowl, excited to eat his meal.', False, 0, 0, None, None, None]\n",
      "[datetime.datetime(2021, 10, 16, 19, 44, 25, tzinfo=datetime.timezone.utc), 1449461245850136589, 902199001625362436, 'Clayton Pierce', 'fishreplicas1', False, 'Very informative thread !', True, 0, 0, None, None, None]\n",
      "[datetime.datetime(2021, 10, 16, 19, 44, 25, tzinfo=datetime.timezone.utc), 1449461245766258688, 42479927, 'blonded. ☾', 'sugarb00gerr', False, 'Drunk Me is really that girl. She be buying Hungover Me sooo much good food to wake up to. 🥰🥰🤣 https://t.co/2M0OOjNJLc', False, 0, 0, None, None, None]\n",
      "[datetime.datetime(2021, 10, 16, 19, 44, 25, tzinfo=datetime.timezone.utc), 1449461245795610630, 1173856640984113152, 'Torres-Kun 🔴', 'OMiNoUs777', False, '@DOC_88mph @shoe0nhead @michaeljknowles A very hot dude.', False, 0, 0, None, None, None]\n",
      "[datetime.datetime(2021, 10, 16, 19, 44, 25, tzinfo=datetime.timezone.utc), 1449461246345023500, 879018854931980289, 'Jhonxxx', 'Jhonxxx18', False, 'RT @Angeiav2: ^~* come watch this video on my $3 Onlyfans &lt;3 (my moans r so hot 🤤) https://t.co/ZRKXVtciIO', False, 0, 0, None, None, None]\n",
      "[datetime.datetime(2021, 10, 16, 19, 44, 25, tzinfo=datetime.timezone.utc), 1449461246390980609, 973309687096463361, '𝔾𝕠𝕕 𝕂𝕖𝕝𝕝𝕪 💸', 'luxurycashbaby', False, '@beautyNthefeet Omg this was like a honey pot for fake sugar daddies 😂', False, 0, 0, None, None, None]\n",
      "[datetime.datetime(2021, 10, 16, 19, 44, 25, tzinfo=datetime.timezone.utc), 1449461246265282564, 1328572520979722247, '𝖘𝖆𝖒', 'aloiradorbd', False, 'RT @fetishxsel: Selena Gomez looks SO hot on stage https://t.co/d2NRGpfcm3', False, 0, 0, None, None, None]\n",
      "[datetime.datetime(2021, 10, 16, 19, 44, 25, tzinfo=datetime.timezone.utc), 1449461246684655617, 75203240, 'Boolén Ariana 👻', 'Belen_Ariana', False, 'Why am I so weird? I need breakfast for breakfast 😩', True, 0, 0, None, None, None]\n",
      "[datetime.datetime(2021, 10, 16, 19, 44, 25, tzinfo=datetime.timezone.utc), 1449461246412066822, 2469892585, 'Banania Republic', 'bananiacy', False, \"RT @MariosKaratzias: “Like father, like son. Turkey's Islamist elite are ideologically committed to the destruction of the West. \\nTurkish P…\", False, 0, 0, None, None, None]\n",
      "[datetime.datetime(2021, 10, 16, 19, 44, 25, tzinfo=datetime.timezone.utc), 1449461246839955461, 1409931663488999429, '_Javi_', 'Javi54081532', False, 'RT @EDGEU1: Sub boy had an intense ass training session. You can tell how much he loved it by rising his legs and begging for more. Non-sto…', False, 0, 0, None, None, None]\n",
      "[datetime.datetime(2021, 10, 16, 19, 44, 25, tzinfo=datetime.timezone.utc), 1449461246802149386, 1374134587811639297, 'Living4Shawmila🇨🇦💗', 'l_shawmila', False, 'RT @taymilathinker: \"her career could not be more on fire, she\\'s killing it right now... but beyond that she\\'s one of the most wonderful pe…', False, 0, 0, None, None, None]\n",
      "[datetime.datetime(2021, 10, 16, 19, 44, 25, tzinfo=datetime.timezone.utc), 1449461247003414528, 239290425, 'Deven Anglin', 'WhattaGuyDeven', False, 'RT @JackPosobiec: We are in the middle of a nationwide school lunch crisis and no one is talking about it', False, 0, 0, None, None, None]\n",
      "[datetime.datetime(2021, 10, 16, 19, 44, 25, tzinfo=datetime.timezone.utc), 1449461246642753536, 1029103088198721536, 'Steph', 'stephhhalexis', False, '@queerboudica Because you are already hot 🔥', False, 0, 0, None, None, None]\n",
      "[datetime.datetime(2021, 10, 16, 19, 44, 25, tzinfo=datetime.timezone.utc), 1449461247590768645, 122828437, 'crispin', 'crispizzle', False, 'Man every day we see how Caribbean people are just lightyears ahead of the game', True, 0, 0, None, None, None]\n",
      "[datetime.datetime(2021, 10, 16, 19, 44, 25, tzinfo=datetime.timezone.utc), 1449461247783542785, 1036954922472759296, 'Ary.', 'yerimedan', False, 'Oh my God...I believe it\\U0001f972', True, 0, 0, None, None, None]\n",
      "[datetime.datetime(2021, 10, 16, 19, 44, 25, tzinfo=datetime.timezone.utc), 1449461247817273344, 3785934207, '🥰', 'nikkiboii00', False, 'RT @_young_ag: None because soul food moves as a unit lol', True, 0, 0, None, None, None]\n",
      "[datetime.datetime(2021, 10, 16, 19, 44, 25, tzinfo=datetime.timezone.utc), 1449461248127549450, 1370464703567253511, 'Perfecting Zen', 'PerfectingZen', False, \"RT @CollectionsI: I've just finished my NEW #sunflower glasses 🌻\\nHand painted on the outside away from the rim, these  crystal #tumblers ar…\", False, 0, 0, None, None, None]\n",
      "[datetime.datetime(2021, 10, 16, 19, 44, 25, tzinfo=datetime.timezone.utc), 1449461248341336065, 3313029430, 'Queen B👸❤🇺🇸', 'mercybube', False, 'RT @SavvyRinu: Thread of heartwarming pictures from the  #ENDSARS protests: \\n\\nI don’t know his handle but he cooked &amp; brought food by himse…', False, 0, 0, None, None, None]\n",
      "[datetime.datetime(2021, 10, 16, 19, 44, 25, tzinfo=datetime.timezone.utc), 1449461248505094150, 1357362067309813762, 'ˑ༄', 'glossyjjks', False, 'just got my dunkin coffee and that was the worst coffee i’ve had in my life. dunkin u are going to HELL!', False, 0, 0, None, None, None]\n",
      "[datetime.datetime(2021, 10, 16, 19, 44, 26, tzinfo=datetime.timezone.utc), 1449461248635113475, 2571598374, 'Jackson', 'GreatHouse_WUN', False, 'RT @xxjayxxxmarieee: Come eat your lunch babe 🍔🍕 https://t.co/cH0uPdQFIP', False, 0, 0, None, None, None]\n",
      "[datetime.datetime(2021, 10, 16, 19, 44, 26, tzinfo=datetime.timezone.utc), 1449461248853164033, 1047955415345111041, 'malefucker', 'malefucker1', False, 'RT @FrenchGaymer: Hot duo @LucasEnt  https://t.co/BR6Ms1ynqa \\n@RuslanAngelo  @JJKnightXXX \\n@ShabazzFan @AussieManGay1 @dilf2050 @JuanLovesC…', False, 0, 0, None, None, None]\n",
      "[datetime.datetime(2021, 10, 16, 19, 44, 26, tzinfo=datetime.timezone.utc), 1449461249289359368, 174295822, 'mfr24', 'mfr234', False, 'RT @MikeSanchize: HAHAHAHAHAAH this son of a bitch won’t make it back to coral gables. Fire him on the tarmac', False, 0, 0, None, None, None]\n",
      "[datetime.datetime(2021, 10, 16, 19, 44, 26, tzinfo=datetime.timezone.utc), 1449461249331302400, 300996358, 'Sarah Albugami☤', 'SMB___2', False, '@BahabriAb @Apple Yes please so I can buy them and lose them', False, 0, 0, None, None, None]\n"
     ]
    }
   ],
   "source": [
    "food_scraper = FoodScraper(consumer_key, consumer_secret, access_token, access_token_secret, max_retries=10)\n",
    "        \n",
    "try:\n",
    "    df = food_scraper.filter(track=exposed_hashtags_and_words, languages=['en'])\n",
    "except:\n",
    "    food_scraper.disconnect()\n",
    "    time.sleep(60)\n",
    "    \n",
    "df"
>>>>>>> 386a160a52747da40a10a4156bd42892b1b2eaa7
   ]
  },
  {
   "cell_type": "code",
<<<<<<< HEAD
   "execution_count": 49,
   "metadata": {},
   "outputs": [],
   "source": [
    "food_scraper = FoodScraper(consumer_key, consumer_secret, access_token, access_token_secret, max_retries=10, time_limit=3600)        "
=======
   "execution_count": null,
   "metadata": {},
   "outputs": [],
   "source": [
    "df"
>>>>>>> 386a160a52747da40a10a4156bd42892b1b2eaa7
   ]
  },
  {
   "cell_type": "code",
   "execution_count": null,
   "metadata": {},
   "outputs": [],
<<<<<<< HEAD
   "source": [
    "# Loop to run for however long you'd like\n",
    "\n",
    "# Run for a day\n",
    "for i in range(0, 24):\n",
    "    # food_scraper = FoodScraper(consumer_key, consumer_secret, access_token, access_token_secret, max_retries=10, time_limit=3600)"
   ]
=======
   "source": []
>>>>>>> 386a160a52747da40a10a4156bd42892b1b2eaa7
  }
 ],
 "metadata": {
  "interpreter": {
   "hash": "05811a4c8edeb62e87c3e708461cae05c65dc4bb514779bc955273fc84b8bc5c"
  },
  "kernelspec": {
   "display_name": "Python 3.8.12 64-bit (conda)",
   "name": "python3"
  },
  "language_info": {
   "codemirror_mode": {
    "name": "ipython",
    "version": 3
   },
   "file_extension": ".py",
   "mimetype": "text/x-python",
   "name": "python",
   "nbconvert_exporter": "python",
   "pygments_lexer": "ipython3",
   "version": "3.8.12"
  },
  "orig_nbformat": 4
 },
 "nbformat": 4,
 "nbformat_minor": 2
}
