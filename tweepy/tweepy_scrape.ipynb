{
 "cells": [
  {
   "cell_type": "code",
   "execution_count": null,
   "metadata": {},
   "outputs": [],
   "source": [
    "# Use python 3.8.12 64-bit (conda)\n",
    "# !python -m pip install tweepy\n",
    "# !pip install -U textblob\n",
    "# !python -m textblob.download_corpora"
   ]
  },
  {
   "cell_type": "code",
   "execution_count": 6,
   "metadata": {},
   "outputs": [],
   "source": [
    "import tweepy\n",
    "import pandas as pd\n",
    "from textblob import TextBlob\n",
    "from datetime import datetime\n",
    "import time\n",
    "import ast\n",
    "from os import listdir\n",
    "from os.path import isfile, join\n",
    "import matplotlib.pyplot as plt\n",
    "from wordcloud import WordCloud, STOPWORDS\n",
    "import sys\n",
    "sys.path.insert(1, 'C:\\\\Users\\\\raide\\\\OneDrive\\\\Documents\\\\GitHub\\\\capstone_project\\\\scraping')\n",
    "sys.path.insert(1, 'C:\\\\Users\\\\raide\\\\OneDrive\\\\Documents\\\\GitHub\\\\capstone_project\\\\constants')\n",
    "from scrape_hashtags import get_hashtag_stats\n",
    "from constants import get_matteo_twitter_creds()"
   ]
  },
  {
   "cell_type": "markdown",
   "metadata": {},
   "source": [
    "## Get hashtag data\n",
    "Ideally, will have a way to get important hashtags, evaluate their exposure/popularity, and then feed it into the scraping function."
   ]
  },
  {
   "cell_type": "code",
   "execution_count": 31,
   "metadata": {},
   "outputs": [
    {
     "data": {
      "text/html": [
       "<div>\n",
       "<style scoped>\n",
       "    .dataframe tbody tr th:only-of-type {\n",
       "        vertical-align: middle;\n",
       "    }\n",
       "\n",
       "    .dataframe tbody tr th {\n",
       "        vertical-align: top;\n",
       "    }\n",
       "\n",
       "    .dataframe thead th {\n",
       "        text-align: right;\n",
       "    }\n",
       "</style>\n",
       "<table border=\"1\" class=\"dataframe\">\n",
       "  <thead>\n",
       "    <tr style=\"text-align: right;\">\n",
       "      <th></th>\n",
       "      <th>hashtag</th>\n",
       "      <th>unique_tweets_per_hour</th>\n",
       "      <th>retweets_per_hour</th>\n",
       "      <th>views_per_hour</th>\n",
       "    </tr>\n",
       "  </thead>\n",
       "  <tbody>\n",
       "    <tr>\n",
       "      <th>0</th>\n",
       "      <td>food</td>\n",
       "      <td>225</td>\n",
       "      <td>75</td>\n",
       "      <td>1376908</td>\n",
       "    </tr>\n",
       "    <tr>\n",
       "      <th>1</th>\n",
       "      <td>recipes</td>\n",
       "      <td>25</td>\n",
       "      <td>4</td>\n",
       "      <td>605629</td>\n",
       "    </tr>\n",
       "    <tr>\n",
       "      <th>2</th>\n",
       "      <td>eating</td>\n",
       "      <td>8</td>\n",
       "      <td>0</td>\n",
       "      <td>27879</td>\n",
       "    </tr>\n",
       "    <tr>\n",
       "      <th>3</th>\n",
       "      <td>recipe</td>\n",
       "      <td>33</td>\n",
       "      <td>17</td>\n",
       "      <td>86483</td>\n",
       "    </tr>\n",
       "    <tr>\n",
       "      <th>4</th>\n",
       "      <td>cook</td>\n",
       "      <td>4</td>\n",
       "      <td>4</td>\n",
       "      <td>1371</td>\n",
       "    </tr>\n",
       "    <tr>\n",
       "      <th>5</th>\n",
       "      <td>cooking</td>\n",
       "      <td>79</td>\n",
       "      <td>21</td>\n",
       "      <td>471308</td>\n",
       "    </tr>\n",
       "    <tr>\n",
       "      <th>6</th>\n",
       "      <td>restaurant</td>\n",
       "      <td>38</td>\n",
       "      <td>8</td>\n",
       "      <td>17412</td>\n",
       "    </tr>\n",
       "    <tr>\n",
       "      <th>7</th>\n",
       "      <td>vegan</td>\n",
       "      <td>58</td>\n",
       "      <td>59</td>\n",
       "      <td>220683</td>\n",
       "    </tr>\n",
       "    <tr>\n",
       "      <th>8</th>\n",
       "      <td>foodporn</td>\n",
       "      <td>33</td>\n",
       "      <td>13</td>\n",
       "      <td>19758</td>\n",
       "    </tr>\n",
       "    <tr>\n",
       "      <th>9</th>\n",
       "      <td>foodie</td>\n",
       "      <td>96</td>\n",
       "      <td>58</td>\n",
       "      <td>164112</td>\n",
       "    </tr>\n",
       "    <tr>\n",
       "      <th>10</th>\n",
       "      <td>yum</td>\n",
       "      <td>17</td>\n",
       "      <td>16</td>\n",
       "      <td>127867</td>\n",
       "    </tr>\n",
       "    <tr>\n",
       "      <th>11</th>\n",
       "      <td>breakfast</td>\n",
       "      <td>29</td>\n",
       "      <td>17</td>\n",
       "      <td>248521</td>\n",
       "    </tr>\n",
       "    <tr>\n",
       "      <th>12</th>\n",
       "      <td>chicken</td>\n",
       "      <td>17</td>\n",
       "      <td>0</td>\n",
       "      <td>96200</td>\n",
       "    </tr>\n",
       "    <tr>\n",
       "      <th>13</th>\n",
       "      <td>lunch</td>\n",
       "      <td>33</td>\n",
       "      <td>5</td>\n",
       "      <td>196150</td>\n",
       "    </tr>\n",
       "    <tr>\n",
       "      <th>14</th>\n",
       "      <td>foodgasm</td>\n",
       "      <td>4</td>\n",
       "      <td>0</td>\n",
       "      <td>942</td>\n",
       "    </tr>\n",
       "    <tr>\n",
       "      <th>15</th>\n",
       "      <td>homemade</td>\n",
       "      <td>33</td>\n",
       "      <td>0</td>\n",
       "      <td>41654</td>\n",
       "    </tr>\n",
       "    <tr>\n",
       "      <th>16</th>\n",
       "      <td>love</td>\n",
       "      <td>546</td>\n",
       "      <td>316</td>\n",
       "      <td>1479283</td>\n",
       "    </tr>\n",
       "    <tr>\n",
       "      <th>17</th>\n",
       "      <td>ramen</td>\n",
       "      <td>25</td>\n",
       "      <td>0</td>\n",
       "      <td>28204</td>\n",
       "    </tr>\n",
       "    <tr>\n",
       "      <th>18</th>\n",
       "      <td>foodies</td>\n",
       "      <td>17</td>\n",
       "      <td>4</td>\n",
       "      <td>4766392</td>\n",
       "    </tr>\n",
       "    <tr>\n",
       "      <th>19</th>\n",
       "      <td>chef</td>\n",
       "      <td>12</td>\n",
       "      <td>0</td>\n",
       "      <td>19542</td>\n",
       "    </tr>\n",
       "    <tr>\n",
       "      <th>20</th>\n",
       "      <td>pizza</td>\n",
       "      <td>33</td>\n",
       "      <td>13</td>\n",
       "      <td>16229</td>\n",
       "    </tr>\n",
       "    <tr>\n",
       "      <th>21</th>\n",
       "      <td>bacon</td>\n",
       "      <td>17</td>\n",
       "      <td>4</td>\n",
       "      <td>11475</td>\n",
       "    </tr>\n",
       "    <tr>\n",
       "      <th>22</th>\n",
       "      <td>pancakes</td>\n",
       "      <td>4</td>\n",
       "      <td>4</td>\n",
       "      <td>119475</td>\n",
       "    </tr>\n",
       "    <tr>\n",
       "      <th>23</th>\n",
       "      <td>dessert</td>\n",
       "      <td>21</td>\n",
       "      <td>25</td>\n",
       "      <td>5758</td>\n",
       "    </tr>\n",
       "    <tr>\n",
       "      <th>24</th>\n",
       "      <td>burger</td>\n",
       "      <td>8</td>\n",
       "      <td>9</td>\n",
       "      <td>7304</td>\n",
       "    </tr>\n",
       "    <tr>\n",
       "      <th>25</th>\n",
       "      <td>home</td>\n",
       "      <td>108</td>\n",
       "      <td>84</td>\n",
       "      <td>9439942</td>\n",
       "    </tr>\n",
       "    <tr>\n",
       "      <th>26</th>\n",
       "      <td>delivery</td>\n",
       "      <td>8</td>\n",
       "      <td>4</td>\n",
       "      <td>3133</td>\n",
       "    </tr>\n",
       "    <tr>\n",
       "      <th>27</th>\n",
       "      <td>course</td>\n",
       "      <td>29</td>\n",
       "      <td>17</td>\n",
       "      <td>714629</td>\n",
       "    </tr>\n",
       "    <tr>\n",
       "      <th>28</th>\n",
       "      <td>kitchen</td>\n",
       "      <td>29</td>\n",
       "      <td>9</td>\n",
       "      <td>10521</td>\n",
       "    </tr>\n",
       "    <tr>\n",
       "      <th>29</th>\n",
       "      <td>dinner</td>\n",
       "      <td>25</td>\n",
       "      <td>13</td>\n",
       "      <td>20283</td>\n",
       "    </tr>\n",
       "    <tr>\n",
       "      <th>30</th>\n",
       "      <td>nomnomnom</td>\n",
       "      <td>4</td>\n",
       "      <td>0</td>\n",
       "      <td>4</td>\n",
       "    </tr>\n",
       "    <tr>\n",
       "      <th>31</th>\n",
       "      <td>cookingshow</td>\n",
       "      <td>4</td>\n",
       "      <td>0</td>\n",
       "      <td>408</td>\n",
       "    </tr>\n",
       "  </tbody>\n",
       "</table>\n",
       "</div>"
      ],
      "text/plain": [
       "        hashtag unique_tweets_per_hour retweets_per_hour views_per_hour\n",
       "0          food                    225                75        1376908\n",
       "1       recipes                     25                 4         605629\n",
       "2        eating                      8                 0          27879\n",
       "3        recipe                     33                17          86483\n",
       "4          cook                      4                 4           1371\n",
       "5       cooking                     79                21         471308\n",
       "6    restaurant                     38                 8          17412\n",
       "7         vegan                     58                59         220683\n",
       "8      foodporn                     33                13          19758\n",
       "9        foodie                     96                58         164112\n",
       "10          yum                     17                16         127867\n",
       "11    breakfast                     29                17         248521\n",
       "12      chicken                     17                 0          96200\n",
       "13        lunch                     33                 5         196150\n",
       "14     foodgasm                      4                 0            942\n",
       "15     homemade                     33                 0          41654\n",
       "16         love                    546               316        1479283\n",
       "17        ramen                     25                 0          28204\n",
       "18      foodies                     17                 4        4766392\n",
       "19         chef                     12                 0          19542\n",
       "20        pizza                     33                13          16229\n",
       "21        bacon                     17                 4          11475\n",
       "22     pancakes                      4                 4         119475\n",
       "23      dessert                     21                25           5758\n",
       "24       burger                      8                 9           7304\n",
       "25         home                    108                84        9439942\n",
       "26     delivery                      8                 4           3133\n",
       "27       course                     29                17         714629\n",
       "28      kitchen                     29                 9          10521\n",
       "29       dinner                     25                13          20283\n",
       "30    nomnomnom                      4                 0              4\n",
       "31  cookingshow                      4                 0            408"
      ]
     },
     "execution_count": 31,
     "metadata": {},
     "output_type": "execute_result"
    }
   ],
   "source": [
    "hashtag_list = ['food', 'recipes', 'eating', 'recipe', 'cook', 'cooking', 'restaurant', 'vegan', 'foodporn', 'foodie', 'yum', 'breakfast', 'chicken', 'lunch', 'foodgasm', 'homemade', 'love', 'ramen', 'foodies', 'chef', 'pizza', 'bacon', 'pancakes', 'dessert', 'burger', 'home', 'nomnomnom', 'delivery', 'course', 'kitchen', 'cookingshow', 'dinner']\n",
    "df = get_hashtag_stats(hashtag_list)\n",
    "df"
   ]
  },
  {
   "cell_type": "code",
   "execution_count": 32,
   "metadata": {},
   "outputs": [],
   "source": [
    "df[['unique_tweets_per_hour', 'retweets_per_hour', 'views_per_hour']] = df[['unique_tweets_per_hour', 'retweets_per_hour', 'views_per_hour']].apply(pd.to_numeric)"
   ]
  },
  {
   "cell_type": "code",
   "execution_count": 33,
   "metadata": {},
   "outputs": [
    {
     "name": "stdout",
     "output_type": "stream",
     "text": [
      "Out of the 32 hashtags in the raw data, 13 received >= 100000 views.\n"
     ]
    }
   ],
   "source": [
    "exposed_hashtags = df[df.views_per_hour >= 100000]\n",
    "print(f\"Out of the {df.shape[0]} hashtags in the raw data, {exposed_hashtags.shape[0]} received >= 100000 views.\")"
   ]
  },
  {
   "cell_type": "code",
   "execution_count": 34,
   "metadata": {},
   "outputs": [
    {
     "data": {
      "text/plain": [
       "'food%2Crecipes%2Ccooking%2Cvegan%2Cfoodie%2Cyum%2Cbreakfast%2Clunch%2Clove%2Cfoodies%2Cpancakes%2Chome%2Ccourse'"
      ]
     },
     "execution_count": 34,
     "metadata": {},
     "output_type": "execute_result"
    }
   ],
   "source": [
    "exposed_hashtags_list = [s.replace('\\xa0', '') for s in exposed_hashtags.hashtag.tolist()]\n",
    "exposed_hashtags_api_str = \"\".join([s + '%2C'if i != len(exposed_hashtags_list) - 1 else s for i, s in enumerate(exposed_hashtags_list)])\n",
    "exposed_hashtags_api_str"
   ]
  },
  {
   "cell_type": "code",
   "execution_count": 35,
   "metadata": {},
   "outputs": [
    {
     "data": {
      "text/plain": [
       "'#food OR #recipes OR #cooking OR #vegan OR #foodie OR #yum OR #breakfast OR #lunch OR #love OR #foodies OR #pancakes OR #home OR #course'"
      ]
     },
     "execution_count": 35,
     "metadata": {},
     "output_type": "execute_result"
    }
   ],
   "source": [
    "exposed_hashtags_scrape_list = ['#' + s + ' OR 'if i != len(exposed_hashtags_list) - 1 else '#' + s for i, s in enumerate(exposed_hashtags_list)]\n",
    "exposed_search_words = \"\".join(exposed_hashtags_scrape_list)\n",
    "exposed_search_words"
   ]
  },
  {
   "cell_type": "code",
   "execution_count": 36,
   "metadata": {},
   "outputs": [
    {
     "name": "stdout",
     "output_type": "stream",
     "text": [
      "Out of the 32 hashtags in the raw data, 19 received < 100000 views.\n"
     ]
    }
   ],
   "source": [
    "less_exposed_hashtags = df[df.views_per_hour < 100000]\n",
    "print(f\"Out of the {df.shape[0]} hashtags in the raw data, {less_exposed_hashtags.shape[0]} received < 100000 views.\")"
   ]
  },
  {
   "cell_type": "code",
   "execution_count": 37,
   "metadata": {},
   "outputs": [
    {
     "data": {
      "text/plain": [
       "'eating%2Crecipe%2Ccook%2Crestaurant%2Cfoodporn%2Cchicken%2Cfoodgasm%2Chomemade%2Cramen%2Cchef%2Cpizza%2Cbacon%2Cdessert%2Cburger%2Cdelivery%2Ckitchen%2Cdinner%2Cnomnomnom%2Ccookingshow'"
      ]
     },
     "execution_count": 37,
     "metadata": {},
     "output_type": "execute_result"
    }
   ],
   "source": [
    "less_exposed_hashtags_list = [s.replace('\\xa0', '') for s in less_exposed_hashtags.hashtag.tolist()]\n",
    "less_exposed_hashtags_api_str = \"\".join([s + '%2C'if i != len(less_exposed_hashtags_list) - 1 else s for i, s in enumerate(less_exposed_hashtags_list)])\n",
    "less_exposed_hashtags_api_str"
   ]
  },
  {
   "cell_type": "code",
   "execution_count": 38,
   "metadata": {},
   "outputs": [
    {
     "data": {
      "text/plain": [
       "'#eating OR #recipe OR #cook OR #restaurant OR #foodporn OR #chicken OR #foodgasm OR #homemade OR #ramen OR #chef OR #pizza OR #bacon OR #dessert OR #burger OR #delivery OR #kitchen OR #dinner OR #nomnomnom OR #cookingshow'"
      ]
     },
     "execution_count": 38,
     "metadata": {},
     "output_type": "execute_result"
    }
   ],
   "source": [
    "less_exposed_hashtags_scrape_list = ['#' + s + ' OR 'if i != len(less_exposed_hashtags_list) - 1 else '#' + s for i, s in enumerate(less_exposed_hashtags_list)]\n",
    "less_exposed_search_words = \"\".join(less_exposed_hashtags_scrape_list)\n",
    "less_exposed_search_words"
   ]
  },
  {
   "cell_type": "code",
   "execution_count": 39,
   "metadata": {},
   "outputs": [
    {
     "data": {
      "text/plain": [
       "'#food OR #recipes OR #eating OR #recipe OR #cook OR #cooking OR #restaurant OR #vegan OR #foodporn OR #foodie OR #yum OR #breakfast OR #chicken OR #lunch OR #foodgasm OR #homemade OR #love OR #ramen OR #foodies OR #chef OR #pizza OR #bacon OR #pancakes OR #dessert OR #burger OR #home OR #delivery OR #course OR #kitchen OR #dinner OR #nomnomnom OR #cookingshow'"
      ]
     },
     "execution_count": 39,
     "metadata": {},
     "output_type": "execute_result"
    }
   ],
   "source": [
    "all_hashtags = df.hashtag.tolist()\n",
    "all_hashtags_scrape_list = ['#' + s + ' OR 'if i != len(df.hashtag.tolist()) - 1 else '#' + s for i, s in enumerate(df.hashtag.tolist())]\n",
    "all_hashtags_search_words = \"\".join(all_hashtags_scrape_list)\n",
    "all_hashtags_search_words"
   ]
  },
  {
   "cell_type": "markdown",
   "metadata": {},
   "source": [
    "## Prepare and run scrape"
   ]
  },
  {
   "cell_type": "code",
   "execution_count": 19,
   "metadata": {},
   "outputs": [],
   "source": [
    "access_token = '2559294522-9beAFYriWwSdFBnpGZMlEuiFmLwWFsU9yDyXlXU'\n",
    "# bearer 'AAAAAAAAAAAAAAAAAAAAACKwSAEAAAAAy%2FFd2hCP7rY9j61xMjWhvg1MsHk%3DlMS19IuX2vpYNU7L2hP33P5eNc7MoHvIT5Hc6QagASmEcKYstw'\n",
    "access_token_secret = 'x2eNxpidxxqLSbLvL4eYpoEaBTRQM0eYD8keqr3YnZxlL'\n",
    "consumer_key = '57HDK4QvI5XCZn4Dq2Oa27vdN'\n",
    "consumer_secret = 'bM59AFPQy9jqI8xp7yqBb6zNUGVcdzIsqdTIyuHOLlNvmXzIJ9'\n",
    "\n",
    "auth = tweepy.OAuthHandler(consumer_key, consumer_secret)\n",
    "auth.set_access_token(access_token, access_token_secret)\n",
    "api = tweepy.API(auth, wait_on_rate_limit=True)"
   ]
  },
  {
   "cell_type": "code",
   "execution_count": 20,
   "metadata": {},
   "outputs": [],
   "source": [
    "def scrape_tweets(api, search_word, num_tweets, num_runs):\n",
    "\n",
    "    import os\n",
    "    import time\n",
    "    from datetime import datetime\n",
    "    \n",
    "    today = datetime.today().strftime('%Y-%m-%d')\n",
    "    columns = ['created_time', 'tweet_id', 'handle_name', 'name', 'location', 'tweet_text', 'favorite_count', 'retweet_count', 'replied_tweet_screen_name_str', 'quote_tweet_bool', 'hashtags']\n",
    "    df = pd.DataFrame(columns=columns)\n",
    "    program_start = time.time()\n",
    "    for i in range(0, num_runs):\n",
    "        start_time = time.time()\n",
    "        tweets = tweepy.Cursor(api.search_tweets, q=search_word, lang='en', until=today).items(num_tweets)\n",
    "        tweets = [tweet for tweet in tweets]\n",
    "\n",
    "        count = 0\n",
    "        for tweet in tweets:\n",
    "            created_time = tweet.created_at\n",
    "            tweet_id = tweet.id\n",
    "            handle_name = tweet.user._json['screen_name']\n",
    "            name = tweet.user._json['name']\n",
    "            location = tweet.location\n",
    "            tweet_text = tweet.text\n",
    "            favorite_count = tweet.favorite_count\n",
    "            retweet_count = tweet.retweet_count\n",
    "            replied_tweet_screen_name_str = tweet.in_reply_to_screen_name \n",
    "            quote_tweet_bool = tweet.is_quote_status\n",
    "            hashtags = tweet.entities['hashtags']\n",
    "\n",
    "            ith_tweet = [created_time, tweet_id, handle_name, name, location, tweet_text, favorite_count, retweet_count, replied_tweet_screen_name_str, quote_tweet_bool, hashtags]\n",
    "            df.loc[len(df)] = ith_tweet\n",
    "            count +=1\n",
    "            \n",
    "        end_run = time.time()\n",
    "        duration_run = round((end_run-start_time)/60, 2)\n",
    "        \n",
    "        print('no. of tweets scraped for run {} is {}'.format(i + 1, count))\n",
    "        print('time take for {} run to complete is {} mins'.format(i+1, duration_run))\n",
    "        # time.sleep(920)\n",
    "    \n",
    "    df['sentiment'] = df.tweet_text.apply(lambda x: TextBlob(x).sentiment[0])\n",
    "    to_csv_timestamp = datetime.today().strftime('%Y%m%d_%H%M%S_')\n",
    "    path = os.getcwd()\n",
    "    filename = path + '/data/' + to_csv_timestamp + 'less_exposed_food_tweets.csv'\n",
    "    df.to_csv(filename, index=False)\n",
    "    program_end = time.time()\n",
    "    print('Scraping has completed!')\n",
    "    print('Total time taken to scrape is {} minutes.'.format(round(program_end - program_start)/60, 2))\n",
    "    \n",
    "    return df"
   ]
  },
  {
   "cell_type": "code",
   "execution_count": 21,
   "metadata": {},
   "outputs": [
    {
     "name": "stderr",
     "output_type": "stream",
     "text": [
      "Rate limit reached. Sleeping for: 855\n"
     ]
    },
    {
     "name": "stdout",
     "output_type": "stream",
     "text": [
      "no. of tweets scraped for run 1 is 5000\n",
      "time take for 1 run to complete is 15.98 mins\n"
     ]
    },
    {
     "name": "stderr",
     "output_type": "stream",
     "text": [
      "Rate limit reached. Sleeping for: 841\n",
      "Rate limit reached. Sleeping for: 856\n"
     ]
    },
    {
     "name": "stdout",
     "output_type": "stream",
     "text": [
      "no. of tweets scraped for run 2 is 5000\n",
      "time take for 2 run to complete is 30.06 mins\n"
     ]
    },
    {
     "name": "stderr",
     "output_type": "stream",
     "text": [
      "Rate limit reached. Sleeping for: 838\n",
      "Rate limit reached. Sleeping for: 858\n"
     ]
    },
    {
     "name": "stdout",
     "output_type": "stream",
     "text": [
      "no. of tweets scraped for run 3 is 5000\n",
      "time take for 3 run to complete is 30.08 mins\n"
     ]
    },
    {
     "name": "stderr",
     "output_type": "stream",
     "text": [
      "Rate limit reached. Sleeping for: 834\n",
      "Rate limit reached. Sleeping for: 857\n"
     ]
    },
    {
     "name": "stdout",
     "output_type": "stream",
     "text": [
      "no. of tweets scraped for run 4 is 5000\n",
      "time take for 4 run to complete is 30.07 mins\n"
     ]
    },
    {
     "name": "stderr",
     "output_type": "stream",
     "text": [
      "Rate limit reached. Sleeping for: 831\n",
      "Rate limit reached. Sleeping for: 856\n"
     ]
    },
    {
     "name": "stdout",
     "output_type": "stream",
     "text": [
      "no. of tweets scraped for run 5 is 5000\n",
      "time take for 5 run to complete is 30.09 mins\n"
     ]
    },
    {
     "name": "stderr",
     "output_type": "stream",
     "text": [
      "Rate limit reached. Sleeping for: 826\n",
      "Rate limit reached. Sleeping for: 857\n"
     ]
    },
    {
     "name": "stdout",
     "output_type": "stream",
     "text": [
      "no. of tweets scraped for run 6 is 5000\n",
      "time take for 6 run to complete is 30.06 mins\n"
     ]
    },
    {
     "name": "stderr",
     "output_type": "stream",
     "text": [
      "Rate limit reached. Sleeping for: 822\n",
      "Rate limit reached. Sleeping for: 856\n"
     ]
    },
    {
     "name": "stdout",
     "output_type": "stream",
     "text": [
      "no. of tweets scraped for run 7 is 5000\n",
      "time take for 7 run to complete is 30.07 mins\n"
     ]
    },
    {
     "name": "stderr",
     "output_type": "stream",
     "text": [
      "Rate limit reached. Sleeping for: 818\n",
      "Rate limit reached. Sleeping for: 857\n"
     ]
    },
    {
     "name": "stdout",
     "output_type": "stream",
     "text": [
      "no. of tweets scraped for run 8 is 5000\n",
      "time take for 8 run to complete is 30.08 mins\n"
     ]
    },
    {
     "name": "stderr",
     "output_type": "stream",
     "text": [
      "Rate limit reached. Sleeping for: 814\n",
      "Rate limit reached. Sleeping for: 856\n"
     ]
    },
    {
     "name": "stdout",
     "output_type": "stream",
     "text": [
      "no. of tweets scraped for run 9 is 5000\n",
      "time take for 9 run to complete is 30.1 mins\n"
     ]
    },
    {
     "name": "stderr",
     "output_type": "stream",
     "text": [
      "Rate limit reached. Sleeping for: 807\n",
      "Rate limit reached. Sleeping for: 855\n"
     ]
    },
    {
     "name": "stdout",
     "output_type": "stream",
     "text": [
      "no. of tweets scraped for run 10 is 5000\n",
      "time take for 10 run to complete is 30.1 mins\n"
     ]
    },
    {
     "name": "stderr",
     "output_type": "stream",
     "text": [
      "Rate limit reached. Sleeping for: 801\n",
      "Rate limit reached. Sleeping for: 855\n"
     ]
    },
    {
     "name": "stdout",
     "output_type": "stream",
     "text": [
      "no. of tweets scraped for run 11 is 5000\n",
      "time take for 11 run to complete is 30.1 mins\n"
     ]
    },
    {
     "name": "stderr",
     "output_type": "stream",
     "text": [
      "Rate limit reached. Sleeping for: 794\n",
      "Rate limit reached. Sleeping for: 854\n"
     ]
    },
    {
     "name": "stdout",
     "output_type": "stream",
     "text": [
      "no. of tweets scraped for run 12 is 5000\n",
      "time take for 12 run to complete is 30.04 mins\n"
     ]
    },
    {
     "name": "stderr",
     "output_type": "stream",
     "text": [
      "Rate limit reached. Sleeping for: 791\n",
      "Rate limit reached. Sleeping for: 855\n"
     ]
    },
    {
     "name": "stdout",
     "output_type": "stream",
     "text": [
      "no. of tweets scraped for run 13 is 5000\n",
      "time take for 13 run to complete is 30.11 mins\n"
     ]
    },
    {
     "name": "stderr",
     "output_type": "stream",
     "text": [
      "Rate limit reached. Sleeping for: 785\n",
      "Rate limit reached. Sleeping for: 853\n"
     ]
    },
    {
     "name": "stdout",
     "output_type": "stream",
     "text": [
      "no. of tweets scraped for run 14 is 5000\n",
      "time take for 14 run to complete is 30.06 mins\n"
     ]
    },
    {
     "name": "stderr",
     "output_type": "stream",
     "text": [
      "Rate limit reached. Sleeping for: 780\n",
      "Rate limit reached. Sleeping for: 854\n"
     ]
    },
    {
     "name": "stdout",
     "output_type": "stream",
     "text": [
      "no. of tweets scraped for run 15 is 5000\n",
      "time take for 15 run to complete is 30.18 mins\n"
     ]
    },
    {
     "name": "stderr",
     "output_type": "stream",
     "text": [
      "Rate limit reached. Sleeping for: 769\n",
      "Rate limit reached. Sleeping for: 854\n"
     ]
    },
    {
     "name": "stdout",
     "output_type": "stream",
     "text": [
      "no. of tweets scraped for run 16 is 5000\n",
      "time take for 16 run to complete is 30.16 mins\n"
     ]
    },
    {
     "name": "stderr",
     "output_type": "stream",
     "text": [
      "Rate limit reached. Sleeping for: 760\n",
      "Rate limit reached. Sleeping for: 852\n"
     ]
    },
    {
     "name": "stdout",
     "output_type": "stream",
     "text": [
      "no. of tweets scraped for run 17 is 5000\n",
      "time take for 17 run to complete is 29.9 mins\n"
     ]
    },
    {
     "name": "stderr",
     "output_type": "stream",
     "text": [
      "Rate limit reached. Sleeping for: 764\n",
      "Rate limit reached. Sleeping for: 761\n"
     ]
    },
    {
     "name": "stdout",
     "output_type": "stream",
     "text": [
      "no. of tweets scraped for run 18 is 5000\n",
      "time take for 18 run to complete is 15.83 mins\n"
     ]
    },
    {
     "name": "stderr",
     "output_type": "stream",
     "text": [
      "Rate limit reached. Sleeping for: 851\n"
     ]
    },
    {
     "name": "stdout",
     "output_type": "stream",
     "text": [
      "no. of tweets scraped for run 19 is 5000\n",
      "time take for 19 run to complete is 30.14 mins\n"
     ]
    },
    {
     "name": "stderr",
     "output_type": "stream",
     "text": [
      "Rate limit reached. Sleeping for: 751\n",
      "Rate limit reached. Sleeping for: 850\n"
     ]
    },
    {
     "name": "stdout",
     "output_type": "stream",
     "text": [
      "no. of tweets scraped for run 20 is 5000\n",
      "time take for 20 run to complete is 30.01 mins\n",
      "Scraping has completed!\n",
      "Total time taken to scrape is 573.6 minutes.\n"
     ]
    },
    {
     "data": {
      "text/html": [
       "<div>\n",
       "<style scoped>\n",
       "    .dataframe tbody tr th:only-of-type {\n",
       "        vertical-align: middle;\n",
       "    }\n",
       "\n",
       "    .dataframe tbody tr th {\n",
       "        vertical-align: top;\n",
       "    }\n",
       "\n",
       "    .dataframe thead th {\n",
       "        text-align: right;\n",
       "    }\n",
       "</style>\n",
       "<table border=\"1\" class=\"dataframe\">\n",
       "  <thead>\n",
       "    <tr style=\"text-align: right;\">\n",
       "      <th></th>\n",
       "      <th>created_time</th>\n",
       "      <th>tweet_id</th>\n",
       "      <th>handle_name</th>\n",
       "      <th>name</th>\n",
       "      <th>tweet_text</th>\n",
       "      <th>favorite_count</th>\n",
       "      <th>retweet_count</th>\n",
       "      <th>replied_tweet_screen_name_str</th>\n",
       "      <th>quote_tweet_bool</th>\n",
       "      <th>hashtags</th>\n",
       "      <th>sentiment</th>\n",
       "    </tr>\n",
       "  </thead>\n",
       "  <tbody>\n",
       "    <tr>\n",
       "      <th>0</th>\n",
       "      <td>2021-10-09 23:59:59+00:00</td>\n",
       "      <td>1446988847632424962</td>\n",
       "      <td>CrowWso</td>\n",
       "      <td>CrowWso</td>\n",
       "      <td>“Money and success don’t change people; they m...</td>\n",
       "      <td>4</td>\n",
       "      <td>1</td>\n",
       "      <td>None</td>\n",
       "      <td>False</td>\n",
       "      <td>[{'text': 'lifequotes', 'indices': [97, 108]}]</td>\n",
       "      <td>-0.1000</td>\n",
       "    </tr>\n",
       "    <tr>\n",
       "      <th>1</th>\n",
       "      <td>2021-10-09 23:59:56+00:00</td>\n",
       "      <td>1446988833036410883</td>\n",
       "      <td>TimeDandy</td>\n",
       "      <td>JumpStart</td>\n",
       "      <td>via #Cleopatra \\n\\nISIS cc\\n#Charlie \\n\\nFair ...</td>\n",
       "      <td>0</td>\n",
       "      <td>0</td>\n",
       "      <td>TimeDandy</td>\n",
       "      <td>False</td>\n",
       "      <td>[{'text': 'Cleopatra', 'indices': [4, 14]}, {'...</td>\n",
       "      <td>0.3500</td>\n",
       "    </tr>\n",
       "    <tr>\n",
       "      <th>2</th>\n",
       "      <td>2021-10-09 23:59:55+00:00</td>\n",
       "      <td>1446988830427336705</td>\n",
       "      <td>elMagnanimous1</td>\n",
       "      <td>Alex</td>\n",
       "      <td>a fitting name for this “Mexican” food joint i...</td>\n",
       "      <td>7</td>\n",
       "      <td>2</td>\n",
       "      <td>None</td>\n",
       "      <td>False</td>\n",
       "      <td>[{'text': 'spanglish', 'indices': [73, 83]}, {...</td>\n",
       "      <td>0.2500</td>\n",
       "    </tr>\n",
       "    <tr>\n",
       "      <th>3</th>\n",
       "      <td>2021-10-09 23:59:54+00:00</td>\n",
       "      <td>1446988826866552834</td>\n",
       "      <td>pravdavtom</td>\n",
       "      <td>правда в том</td>\n",
       "      <td>RT @ACIM_YouTube: “The abilities you now posse...</td>\n",
       "      <td>0</td>\n",
       "      <td>7</td>\n",
       "      <td>None</td>\n",
       "      <td>False</td>\n",
       "      <td>[{'text': 'ACIM', 'indices': [112, 117]}, {'te...</td>\n",
       "      <td>0.1000</td>\n",
       "    </tr>\n",
       "    <tr>\n",
       "      <th>4</th>\n",
       "      <td>2021-10-09 23:59:48+00:00</td>\n",
       "      <td>1446988799519637504</td>\n",
       "      <td>GusWatanabe</td>\n",
       "      <td>Gus Watanabe (he/his)</td>\n",
       "      <td>Congratulations to Johnny May for crossing the...</td>\n",
       "      <td>10</td>\n",
       "      <td>1</td>\n",
       "      <td>None</td>\n",
       "      <td>False</td>\n",
       "      <td>[]</td>\n",
       "      <td>0.1125</td>\n",
       "    </tr>\n",
       "    <tr>\n",
       "      <th>...</th>\n",
       "      <td>...</td>\n",
       "      <td>...</td>\n",
       "      <td>...</td>\n",
       "      <td>...</td>\n",
       "      <td>...</td>\n",
       "      <td>...</td>\n",
       "      <td>...</td>\n",
       "      <td>...</td>\n",
       "      <td>...</td>\n",
       "      <td>...</td>\n",
       "      <td>...</td>\n",
       "    </tr>\n",
       "    <tr>\n",
       "      <th>99995</th>\n",
       "      <td>2021-10-09 20:17:43+00:00</td>\n",
       "      <td>1446932911517749254</td>\n",
       "      <td>Magnificent_A1</td>\n",
       "      <td>Magnificent Magazine</td>\n",
       "      <td>#AskTheExpert_Saturday When it comes to one of...</td>\n",
       "      <td>0</td>\n",
       "      <td>0</td>\n",
       "      <td>None</td>\n",
       "      <td>False</td>\n",
       "      <td>[{'text': 'AskTheExpert_Saturday', 'indices': ...</td>\n",
       "      <td>1.0000</td>\n",
       "    </tr>\n",
       "    <tr>\n",
       "      <th>99996</th>\n",
       "      <td>2021-10-09 20:17:43+00:00</td>\n",
       "      <td>1446932910188158976</td>\n",
       "      <td>BonesBBQMinot</td>\n",
       "      <td>Bones BBQ Minot</td>\n",
       "      <td>Today’s good mood is sponsored by Bones BBQ fo...</td>\n",
       "      <td>0</td>\n",
       "      <td>0</td>\n",
       "      <td>None</td>\n",
       "      <td>False</td>\n",
       "      <td>[{'text': 'GoodFood', 'indices': [52, 61]}, {'...</td>\n",
       "      <td>0.7000</td>\n",
       "    </tr>\n",
       "    <tr>\n",
       "      <th>99997</th>\n",
       "      <td>2021-10-09 20:17:42+00:00</td>\n",
       "      <td>1446932907390554116</td>\n",
       "      <td>greennomad61</td>\n",
       "      <td>Krasnov</td>\n",
       "      <td>@DeborahMeaden @morgues_ @ciwf I'm sure you al...</td>\n",
       "      <td>0</td>\n",
       "      <td>0</td>\n",
       "      <td>DeborahMeaden</td>\n",
       "      <td>False</td>\n",
       "      <td>[{'text': 'ciwf', 'indices': [62, 67]}, {'text...</td>\n",
       "      <td>0.0000</td>\n",
       "    </tr>\n",
       "    <tr>\n",
       "      <th>99998</th>\n",
       "      <td>2021-10-09 20:17:38+00:00</td>\n",
       "      <td>1446932892194586629</td>\n",
       "      <td>pl2584</td>\n",
       "      <td>Fat Gentlemen Calvin</td>\n",
       "      <td>RT @TemptingFoodNow: BBQ HEAVEN 🔥😇🔥🤤 #Food #Fo...</td>\n",
       "      <td>0</td>\n",
       "      <td>353</td>\n",
       "      <td>None</td>\n",
       "      <td>False</td>\n",
       "      <td>[{'text': 'Food', 'indices': [37, 42]}, {'text...</td>\n",
       "      <td>0.0000</td>\n",
       "    </tr>\n",
       "    <tr>\n",
       "      <th>99999</th>\n",
       "      <td>2021-10-09 20:17:35+00:00</td>\n",
       "      <td>1446932876998684674</td>\n",
       "      <td>JasperManUtd</td>\n",
       "      <td>Susan Thompson Ⓥ Pigoneer™</td>\n",
       "      <td>RT @_AnimalAdvocate: You'll find them here, yo...</td>\n",
       "      <td>0</td>\n",
       "      <td>28</td>\n",
       "      <td>None</td>\n",
       "      <td>False</td>\n",
       "      <td>[{'text': 'pigoneer', 'indices': [80, 89]}, {'...</td>\n",
       "      <td>0.0000</td>\n",
       "    </tr>\n",
       "  </tbody>\n",
       "</table>\n",
       "<p>100000 rows × 11 columns</p>\n",
       "</div>"
      ],
      "text/plain": [
       "                   created_time             tweet_id     handle_name  \\\n",
       "0     2021-10-09 23:59:59+00:00  1446988847632424962         CrowWso   \n",
       "1     2021-10-09 23:59:56+00:00  1446988833036410883       TimeDandy   \n",
       "2     2021-10-09 23:59:55+00:00  1446988830427336705  elMagnanimous1   \n",
       "3     2021-10-09 23:59:54+00:00  1446988826866552834      pravdavtom   \n",
       "4     2021-10-09 23:59:48+00:00  1446988799519637504     GusWatanabe   \n",
       "...                         ...                  ...             ...   \n",
       "99995 2021-10-09 20:17:43+00:00  1446932911517749254  Magnificent_A1   \n",
       "99996 2021-10-09 20:17:43+00:00  1446932910188158976   BonesBBQMinot   \n",
       "99997 2021-10-09 20:17:42+00:00  1446932907390554116    greennomad61   \n",
       "99998 2021-10-09 20:17:38+00:00  1446932892194586629          pl2584   \n",
       "99999 2021-10-09 20:17:35+00:00  1446932876998684674    JasperManUtd   \n",
       "\n",
       "                             name  \\\n",
       "0                         CrowWso   \n",
       "1                       JumpStart   \n",
       "2                            Alex   \n",
       "3                    правда в том   \n",
       "4           Gus Watanabe (he/his)   \n",
       "...                           ...   \n",
       "99995        Magnificent Magazine   \n",
       "99996             Bones BBQ Minot   \n",
       "99997                     Krasnov   \n",
       "99998        Fat Gentlemen Calvin   \n",
       "99999  Susan Thompson Ⓥ Pigoneer™   \n",
       "\n",
       "                                              tweet_text favorite_count  \\\n",
       "0      “Money and success don’t change people; they m...              4   \n",
       "1      via #Cleopatra \\n\\nISIS cc\\n#Charlie \\n\\nFair ...              0   \n",
       "2      a fitting name for this “Mexican” food joint i...              7   \n",
       "3      RT @ACIM_YouTube: “The abilities you now posse...              0   \n",
       "4      Congratulations to Johnny May for crossing the...             10   \n",
       "...                                                  ...            ...   \n",
       "99995  #AskTheExpert_Saturday When it comes to one of...              0   \n",
       "99996  Today’s good mood is sponsored by Bones BBQ fo...              0   \n",
       "99997  @DeborahMeaden @morgues_ @ciwf I'm sure you al...              0   \n",
       "99998  RT @TemptingFoodNow: BBQ HEAVEN 🔥😇🔥🤤 #Food #Fo...              0   \n",
       "99999  RT @_AnimalAdvocate: You'll find them here, yo...              0   \n",
       "\n",
       "      retweet_count replied_tweet_screen_name_str quote_tweet_bool  \\\n",
       "0                 1                          None            False   \n",
       "1                 0                     TimeDandy            False   \n",
       "2                 2                          None            False   \n",
       "3                 7                          None            False   \n",
       "4                 1                          None            False   \n",
       "...             ...                           ...              ...   \n",
       "99995             0                          None            False   \n",
       "99996             0                          None            False   \n",
       "99997             0                 DeborahMeaden            False   \n",
       "99998           353                          None            False   \n",
       "99999            28                          None            False   \n",
       "\n",
       "                                                hashtags  sentiment  \n",
       "0         [{'text': 'lifequotes', 'indices': [97, 108]}]    -0.1000  \n",
       "1      [{'text': 'Cleopatra', 'indices': [4, 14]}, {'...     0.3500  \n",
       "2      [{'text': 'spanglish', 'indices': [73, 83]}, {...     0.2500  \n",
       "3      [{'text': 'ACIM', 'indices': [112, 117]}, {'te...     0.1000  \n",
       "4                                                     []     0.1125  \n",
       "...                                                  ...        ...  \n",
       "99995  [{'text': 'AskTheExpert_Saturday', 'indices': ...     1.0000  \n",
       "99996  [{'text': 'GoodFood', 'indices': [52, 61]}, {'...     0.7000  \n",
       "99997  [{'text': 'ciwf', 'indices': [62, 67]}, {'text...     0.0000  \n",
       "99998  [{'text': 'Food', 'indices': [37, 42]}, {'text...     0.0000  \n",
       "99999  [{'text': 'pigoneer', 'indices': [80, 89]}, {'...     0.0000  \n",
       "\n",
       "[100000 rows x 11 columns]"
      ]
     },
     "execution_count": 21,
     "metadata": {},
     "output_type": "execute_result"
    }
   ],
   "source": [
    "# Scrape tweets \n",
    "df = scrape_tweets(api, all_hashtags_search_words, 5000, 20) # Takes about 10 hours to run, getting about 33% hits on tweets we want\n",
    "df"
   ]
  },
  {
   "cell_type": "code",
   "execution_count": 41,
   "metadata": {},
   "outputs": [
    {
     "data": {
      "text/html": [
       "<div>\n",
       "<style scoped>\n",
       "    .dataframe tbody tr th:only-of-type {\n",
       "        vertical-align: middle;\n",
       "    }\n",
       "\n",
       "    .dataframe tbody tr th {\n",
       "        vertical-align: top;\n",
       "    }\n",
       "\n",
       "    .dataframe thead th {\n",
       "        text-align: right;\n",
       "    }\n",
       "</style>\n",
       "<table border=\"1\" class=\"dataframe\">\n",
       "  <thead>\n",
       "    <tr style=\"text-align: right;\">\n",
       "      <th></th>\n",
       "      <th>tweet_id</th>\n",
       "      <th>handle_name</th>\n",
       "      <th>name</th>\n",
       "      <th>tweet_text</th>\n",
       "      <th>favorite_count</th>\n",
       "      <th>retweet_count</th>\n",
       "      <th>replied_tweet_screen_name_str</th>\n",
       "      <th>quote_tweet_bool</th>\n",
       "      <th>sentiment</th>\n",
       "      <th>hashtag</th>\n",
       "      <th>hashtag_indices</th>\n",
       "    </tr>\n",
       "  </thead>\n",
       "  <tbody>\n",
       "    <tr>\n",
       "      <th>7</th>\n",
       "      <td>1446988830427336705</td>\n",
       "      <td>elMagnanimous1</td>\n",
       "      <td>Alex</td>\n",
       "      <td>a fitting name for this Mexican food joint in ...</td>\n",
       "      <td>7</td>\n",
       "      <td>2</td>\n",
       "      <td>nan</td>\n",
       "      <td>False</td>\n",
       "      <td>0.250000</td>\n",
       "      <td>kitchen</td>\n",
       "      <td>[84, 92]</td>\n",
       "    </tr>\n",
       "    <tr>\n",
       "      <th>8</th>\n",
       "      <td>1446988830427336705</td>\n",
       "      <td>elMagnanimous1</td>\n",
       "      <td>Alex</td>\n",
       "      <td>a fitting name for this Mexican food joint in ...</td>\n",
       "      <td>7</td>\n",
       "      <td>2</td>\n",
       "      <td>nan</td>\n",
       "      <td>False</td>\n",
       "      <td>0.250000</td>\n",
       "      <td>foodie</td>\n",
       "      <td>[93, 100]</td>\n",
       "    </tr>\n",
       "    <tr>\n",
       "      <th>11</th>\n",
       "      <td>1446988736701554694</td>\n",
       "      <td>Yogaposesunli</td>\n",
       "      <td>Yoga</td>\n",
       "      <td>Roses for you my love\\nhttps://t.co/bLBOhoes5G...</td>\n",
       "      <td>0</td>\n",
       "      <td>0</td>\n",
       "      <td>nan</td>\n",
       "      <td>False</td>\n",
       "      <td>0.500000</td>\n",
       "      <td>love</td>\n",
       "      <td>[47, 52]</td>\n",
       "    </tr>\n",
       "    <tr>\n",
       "      <th>17</th>\n",
       "      <td>1446988721920823297</td>\n",
       "      <td>Mr_Monty_Martin</td>\n",
       "      <td>Monty Martin</td>\n",
       "      <td>Be still; and know that I am\\n#PresenceofMind ...</td>\n",
       "      <td>0</td>\n",
       "      <td>0</td>\n",
       "      <td>nan</td>\n",
       "      <td>False</td>\n",
       "      <td>0.500000</td>\n",
       "      <td>love</td>\n",
       "      <td>[46, 51]</td>\n",
       "    </tr>\n",
       "    <tr>\n",
       "      <th>22</th>\n",
       "      <td>1446988694238416898</td>\n",
       "      <td>13PhotogRudy</td>\n",
       "      <td>Rudy Montano</td>\n",
       "      <td>@PeiWei dont like the new #sesame #chicken . B...</td>\n",
       "      <td>0</td>\n",
       "      <td>0</td>\n",
       "      <td>PeiWei</td>\n",
       "      <td>False</td>\n",
       "      <td>-0.090909</td>\n",
       "      <td>chicken</td>\n",
       "      <td>[35, 43]</td>\n",
       "    </tr>\n",
       "    <tr>\n",
       "      <th>...</th>\n",
       "      <td>...</td>\n",
       "      <td>...</td>\n",
       "      <td>...</td>\n",
       "      <td>...</td>\n",
       "      <td>...</td>\n",
       "      <td>...</td>\n",
       "      <td>...</td>\n",
       "      <td>...</td>\n",
       "      <td>...</td>\n",
       "      <td>...</td>\n",
       "      <td>...</td>\n",
       "    </tr>\n",
       "    <tr>\n",
       "      <th>308456</th>\n",
       "      <td>1446933086097264648</td>\n",
       "      <td>nancymurden</td>\n",
       "      <td>Nancy D. Murden</td>\n",
       "      <td>RT @foodbloggerhere: [Homemade] Oreo stuffed c...</td>\n",
       "      <td>0</td>\n",
       "      <td>155</td>\n",
       "      <td>nan</td>\n",
       "      <td>False</td>\n",
       "      <td>-0.750000</td>\n",
       "      <td>foodie</td>\n",
       "      <td>[85, 92]</td>\n",
       "    </tr>\n",
       "    <tr>\n",
       "      <th>308470</th>\n",
       "      <td>1446933062353231876</td>\n",
       "      <td>TravelTokensNFT</td>\n",
       "      <td>Travel Tokens</td>\n",
       "      <td>RT @MoodyOwlNFT: First #home project of #eth n...</td>\n",
       "      <td>0</td>\n",
       "      <td>23</td>\n",
       "      <td>nan</td>\n",
       "      <td>False</td>\n",
       "      <td>0.250000</td>\n",
       "      <td>home</td>\n",
       "      <td>[23, 28]</td>\n",
       "    </tr>\n",
       "    <tr>\n",
       "      <th>308475</th>\n",
       "      <td>1446933047237042183</td>\n",
       "      <td>OkroguLes</td>\n",
       "      <td>Okrogu Les</td>\n",
       "      <td>RT @Abhijitxp01: Follow for new amazing #photo...</td>\n",
       "      <td>0</td>\n",
       "      <td>3</td>\n",
       "      <td>nan</td>\n",
       "      <td>False</td>\n",
       "      <td>0.412121</td>\n",
       "      <td>love</td>\n",
       "      <td>[115, 120]</td>\n",
       "    </tr>\n",
       "    <tr>\n",
       "      <th>308497</th>\n",
       "      <td>1446933000923631623</td>\n",
       "      <td>RossHovey</td>\n",
       "      <td>Ross Hovey</td>\n",
       "      <td>#turkeypadthai #joewicksrecipe #joesfamilyfood...</td>\n",
       "      <td>0</td>\n",
       "      <td>0</td>\n",
       "      <td>nan</td>\n",
       "      <td>False</td>\n",
       "      <td>0.000000</td>\n",
       "      <td>dinner</td>\n",
       "      <td>[47, 54]</td>\n",
       "    </tr>\n",
       "    <tr>\n",
       "      <th>308514</th>\n",
       "      <td>1446932907390554116</td>\n",
       "      <td>greennomad61</td>\n",
       "      <td>Krasnov</td>\n",
       "      <td>@DeborahMeaden @morgues_ @ciwf I'm sure you al...</td>\n",
       "      <td>0</td>\n",
       "      <td>0</td>\n",
       "      <td>DeborahMeaden</td>\n",
       "      <td>False</td>\n",
       "      <td>0.000000</td>\n",
       "      <td>vegan</td>\n",
       "      <td>[77, 83]</td>\n",
       "    </tr>\n",
       "  </tbody>\n",
       "</table>\n",
       "<p>37950 rows × 11 columns</p>\n",
       "</div>"
      ],
      "text/plain": [
       "                   tweet_id      handle_name             name  \\\n",
       "7       1446988830427336705   elMagnanimous1             Alex   \n",
       "8       1446988830427336705   elMagnanimous1             Alex   \n",
       "11      1446988736701554694    Yogaposesunli             Yoga   \n",
       "17      1446988721920823297  Mr_Monty_Martin     Monty Martin   \n",
       "22      1446988694238416898     13PhotogRudy     Rudy Montano   \n",
       "...                     ...              ...              ...   \n",
       "308456  1446933086097264648      nancymurden  Nancy D. Murden   \n",
       "308470  1446933062353231876  TravelTokensNFT    Travel Tokens   \n",
       "308475  1446933047237042183        OkroguLes       Okrogu Les   \n",
       "308497  1446933000923631623        RossHovey       Ross Hovey   \n",
       "308514  1446932907390554116     greennomad61          Krasnov   \n",
       "\n",
       "                                               tweet_text  favorite_count  \\\n",
       "7       a fitting name for this Mexican food joint in ...               7   \n",
       "8       a fitting name for this Mexican food joint in ...               7   \n",
       "11      Roses for you my love\\nhttps://t.co/bLBOhoes5G...               0   \n",
       "17      Be still; and know that I am\\n#PresenceofMind ...               0   \n",
       "22      @PeiWei dont like the new #sesame #chicken . B...               0   \n",
       "...                                                   ...             ...   \n",
       "308456  RT @foodbloggerhere: [Homemade] Oreo stuffed c...               0   \n",
       "308470  RT @MoodyOwlNFT: First #home project of #eth n...               0   \n",
       "308475  RT @Abhijitxp01: Follow for new amazing #photo...               0   \n",
       "308497  #turkeypadthai #joewicksrecipe #joesfamilyfood...               0   \n",
       "308514  @DeborahMeaden @morgues_ @ciwf I'm sure you al...               0   \n",
       "\n",
       "        retweet_count replied_tweet_screen_name_str quote_tweet_bool  \\\n",
       "7                   2                           nan            False   \n",
       "8                   2                           nan            False   \n",
       "11                  0                           nan            False   \n",
       "17                  0                           nan            False   \n",
       "22                  0                        PeiWei            False   \n",
       "...               ...                           ...              ...   \n",
       "308456            155                           nan            False   \n",
       "308470             23                           nan            False   \n",
       "308475              3                           nan            False   \n",
       "308497              0                           nan            False   \n",
       "308514              0                 DeborahMeaden            False   \n",
       "\n",
       "        sentiment  hashtag hashtag_indices  \n",
       "7        0.250000  kitchen        [84, 92]  \n",
       "8        0.250000   foodie       [93, 100]  \n",
       "11       0.500000     love        [47, 52]  \n",
       "17       0.500000     love        [46, 51]  \n",
       "22      -0.090909  chicken        [35, 43]  \n",
       "...           ...      ...             ...  \n",
       "308456  -0.750000   foodie        [85, 92]  \n",
       "308470   0.250000     home        [23, 28]  \n",
       "308475   0.412121     love      [115, 120]  \n",
       "308497   0.000000   dinner        [47, 54]  \n",
       "308514   0.000000    vegan        [77, 83]  \n",
       "\n",
       "[37950 rows x 11 columns]"
      ]
     },
     "execution_count": 41,
     "metadata": {},
     "output_type": "execute_result"
    }
   ],
   "source": [
    "# Read in dataframe\n",
    "data_path = r'C:\\Users\\raide\\OneDrive\\Documents\\GitHub\\capstone_project\\tweepy\\data'\n",
    "data_files = [f.rsplit('.', 1)[0] for f in listdir(data_path) if isfile(join(data_path, f))]\n",
    "df = pd.read_csv(data_path + '\\\\' + data_files[-1] + '.csv', index_col=0, converters={'hashtags': ast.literal_eval})\n",
    "\n",
    "# Expand list of hashtag dictionaries\n",
    "df = df.explode('hashtags').reset_index(drop=True)\n",
    "\n",
    "# Drop nas\n",
    "df = df.dropna(subset=['hashtags']).reset_index(drop=True)\n",
    "\n",
    "# Flatten hashtags dictionaries in their own df\n",
    "hashtags_df = pd.json_normalize(df.hashtags)\n",
    "hashtags_df.rename(columns={'text': 'hashtag', 'indices': 'hashtag_indices'}, inplace=True)\n",
    "\n",
    "# Replace original hashtag column with new hashtag column from hashtags_df\n",
    "df.drop(columns=['hashtags'], inplace=True)\n",
    "df['hashtag'] = hashtags_df.hashtag\n",
    "df['hashtag_indices'] = hashtags_df.hashtag_indices\n",
    "\n",
    "# Remove emojis\n",
    "df = df.astype(str).apply(lambda x: x.str.encode('ascii', 'ignore').str.decode('ascii'))\n",
    "\n",
    "# Change columns to numeric\n",
    "df[['tweet_id', 'favorite_count', 'retweet_count', 'sentiment']] = df[['tweet_id', 'favorite_count', 'retweet_count', 'sentiment']].apply(pd.to_numeric)\n",
    "\n",
    "# Drop string nans\n",
    "df = df[df['hashtag'] != 'nan']\n",
    "\n",
    "# Only keep rows that have the hashtags we searched for\n",
    "# df = df[df['hashtag'].isin(exposed_hashtags_list)]\n",
    "# df = df[df['hashtag'].isin(less_exposed_hashtags_list)]\n",
    "df = df[df['hashtag'].isin(all_hashtags)]\n",
    "\n",
    "# Write to csv\n",
    "df.to_csv(data_path + '\\\\' + data_files[-1] + '_clean.csv')\n",
    "df"
   ]
  },
  {
   "cell_type": "code",
   "execution_count": 26,
   "metadata": {},
   "outputs": [
    {
     "data": {
      "text/html": [
       "<div>\n",
       "<style scoped>\n",
       "    .dataframe tbody tr th:only-of-type {\n",
       "        vertical-align: middle;\n",
       "    }\n",
       "\n",
       "    .dataframe tbody tr th {\n",
       "        vertical-align: top;\n",
       "    }\n",
       "\n",
       "    .dataframe thead th {\n",
       "        text-align: right;\n",
       "    }\n",
       "</style>\n",
       "<table border=\"1\" class=\"dataframe\">\n",
       "  <thead>\n",
       "    <tr style=\"text-align: right;\">\n",
       "      <th></th>\n",
       "      <th>tweet_id</th>\n",
       "      <th>handle_name</th>\n",
       "      <th>name</th>\n",
       "      <th>tweet_text</th>\n",
       "      <th>favorite_count</th>\n",
       "      <th>retweet_count</th>\n",
       "      <th>replied_tweet_screen_name_str</th>\n",
       "      <th>quote_tweet_bool</th>\n",
       "      <th>sentiment</th>\n",
       "      <th>hashtag</th>\n",
       "      <th>hashtag_indices</th>\n",
       "    </tr>\n",
       "  </thead>\n",
       "  <tbody>\n",
       "  </tbody>\n",
       "</table>\n",
       "</div>"
      ],
      "text/plain": [
       "Empty DataFrame\n",
       "Columns: [tweet_id, handle_name, name, tweet_text, favorite_count, retweet_count, replied_tweet_screen_name_str, quote_tweet_bool, sentiment, hashtag, hashtag_indices]\n",
       "Index: []"
      ]
     },
     "execution_count": 26,
     "metadata": {},
     "output_type": "execute_result"
    }
   ],
   "source": [
    "df"
   ]
  },
  {
   "cell_type": "code",
   "execution_count": null,
   "metadata": {},
   "outputs": [],
   "source": [
    "# Need to supplement tweets with location\n",
    "tweet_ids = df.tweet_id.tolist()\n",
    "\n",
    "test = [api.get_status(tweet_id) for tweet_id in tweet_ids]\n",
    "test2 = [s.text for s in test]"
   ]
  },
  {
   "cell_type": "code",
   "execution_count": 43,
   "metadata": {},
   "outputs": [
    {
     "data": {
      "image/png": "[encoded data removed]",
      "text/plain": [
       "<Figure size 720x720 with 1 Axes>"
      ]
     },
     "metadata": {
      "needs_background": "light"
     },
     "output_type": "display_data"
    }
   ],
   "source": [
    "# Get string of hashtags\n",
    "text = \" \".join(hashtag for hashtag in df.hashtag)\n",
    "\n",
    "# Generate wordcloud image\n",
    "stopwords = set(STOPWORDS)\n",
    "wordcloud = WordCloud(stopwords=stopwords, max_font_size=100, max_words=100, background_color=\"black\", mode=\"RGBA\").generate(text)\n",
    "\n",
    "# Display wordcloud image\n",
    "plt.figure(figsize=[10,10])\n",
    "plt.imshow(wordcloud, interpolation='bilinear')\n",
    "plt.axis(\"off\")\n",
    "image_path = r'C:\\Users\\raide\\OneDrive\\Documents\\GitHub\\capstone_project\\images'\n",
    "data_files = [f.rsplit('.', 1)[0] for f in listdir(data_path) if isfile(join(data_path, f))]\n",
    "plt.savefig(image_path + '//' + data_files[-1] + '.png', format=\"png\")\n",
    "plt.show()"
   ]
  },
  {
   "cell_type": "code",
   "execution_count": null,
   "metadata": {},
   "outputs": [],
   "source": []
  }
 ],
 "metadata": {
  "interpreter": {
   "hash": "05811a4c8edeb62e87c3e708461cae05c65dc4bb514779bc955273fc84b8bc5c"
  },
  "kernelspec": {
   "display_name": "Python 3.8.12 64-bit (conda)",
   "name": "python3"
  },
  "language_info": {
   "codemirror_mode": {
    "name": "ipython",
    "version": 3
   },
   "file_extension": ".py",
   "mimetype": "text/x-python",
   "name": "python",
   "nbconvert_exporter": "python",
   "pygments_lexer": "ipython3",
   "version": "3.8.12"
  },
  "orig_nbformat": 4
 },
 "nbformat": 4,
 "nbformat_minor": 2
}
