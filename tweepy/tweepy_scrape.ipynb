{
 "cells": [
  {
   "cell_type": "code",
   "execution_count": 6,
   "metadata": {},
   "outputs": [],
   "source": [
    "import tweepy\n",
    "import pandas as pd\n",
    "from textblob import TextBlob\n",
    "from datetime import datetime\n",
    "import time\n",
    "from ast import literal_eval\n",
    "from os import listdir\n",
    "from os.path import isfile, join\n",
    "import matplotlib.pyplot as plt\n",
    "from wordcloud import WordCloud, STOPWORDS\n",
    "import sys\n",
    "sys.path.insert(1, 'C:\\\\Users\\\\raide\\\\OneDrive\\\\Documents\\\\GitHub\\\\capstone_project\\\\scraping')\n",
    "sys.path.insert(1, 'C:\\\\Users\\\\raide\\\\OneDrive\\\\Documents\\\\GitHub\\\\capstone_project\\\\constants')\n",
    "from scrape_hashtags import get_hashtag_stats\n",
    "from constants import get_matteo_twitter_creds, get_michael_twitter_creds"
   ]
  },
  {
   "cell_type": "code",
   "execution_count": 17,
   "metadata": {},
   "outputs": [],
   "source": [
    "abspath_curr = os.path.join(os.getcwd())\n",
    "data_path = os.path.join(abspath_curr, 'data')"
   ]
  },
  {
   "cell_type": "markdown",
   "metadata": {},
   "source": [
    "## Prepare and run scrape"
   ]
  },
  {
   "cell_type": "code",
   "execution_count": 48,
   "metadata": {},
   "outputs": [],
   "source": [
    "def scrape_tweets(api, search_word, num_tweets, num_runs, run_path=None):\n",
    "\n",
    "    import os\n",
    "    import time\n",
    "    from datetime import datetime\n",
    "    \n",
    "    today = datetime.today().strftime('%Y-%m-%d')\n",
    "    columns = ['created_time', 'tweet_id', 'handle_name', 'name', 'location', 'tweet_text', 'favorite_count', 'retweet_count', 'replied_tweet_screen_name_str', 'quote_tweet_bool', 'hashtags', 'geo']\n",
    "    df = pd.DataFrame(columns=columns)\n",
    "    program_start = time.time()\n",
    "    for i in range(0, num_runs):\n",
    "        start_time = time.time()\n",
    "        tweets = tweepy.Cursor(api.search_tweets, q=search_word, lang='en', until=today).items(num_tweets)\n",
    "        tweets = [tweet for tweet in tweets]\n",
    "\n",
    "        count = 0\n",
    "        for tweet in tweets:\n",
    "            created_time = tweet.created_at\n",
    "            tweet_id = tweet.id\n",
    "            handle_name = tweet.user._json['screen_name']\n",
    "            name = tweet.user._json['name']\n",
    "            location = tweet.user.location\n",
    "            tweet_text = tweet.text\n",
    "            favorite_count = tweet.favorite_count\n",
    "            retweet_count = tweet.retweet_count\n",
    "            replied_tweet_screen_name_str = tweet.in_reply_to_screen_name \n",
    "            quote_tweet_bool = tweet.is_quote_status\n",
    "            hashtags = tweet.entities['hashtags']\n",
    "            geo = tweet.geo\n",
    "\n",
    "            ith_tweet = [created_time, tweet_id, handle_name, name, location, tweet_text, favorite_count, retweet_count, replied_tweet_screen_name_str, quote_tweet_bool, hashtags, geo]\n",
    "            df.loc[len(df)] = ith_tweet\n",
    "            count +=1\n",
    "        \n",
    "        to_csv_timestamp = datetime.today().strftime('%Y%m%d_%H%M%S_')\n",
    "        filename = os.path.join(run_path, to_csv_timestamp + 'exposed_food_scrape_tweets.csv')\n",
    "        df.to_csv(filename, index=False)\n",
    "        program_end = time.time()\n",
    "        end_run = time.time()\n",
    "        duration_run = round((end_run-start_time)/60, 2)\n",
    "        \n",
    "        print('no. of tweets scraped for run {} is {}'.format(i + 1, count))\n",
    "        print('time take for {} run to complete is {} mins'.format(i+1, duration_run))\n",
    "        # time.sleep(920)\n",
    "    \n",
    "    # df['sentiment'] = df.tweet_text.apply(lambda x: TextBlob(x).sentiment[0])\n",
    "    print('Scraping has completed!')\n",
    "    print('Total time taken to scrape is {} minutes.'.format(round(program_end - program_start)/60, 2))\n",
    "    \n",
    "    return df"
   ]
  },
  {
   "cell_type": "code",
   "execution_count": 60,
   "metadata": {},
   "outputs": [],
   "source": [
    "def scrape_query(hashtag_list, food_list, cutoff):\n",
    "    \"\"\"\n",
    "    Calls scraping function `get_hashtag_stats` and adds supplied list of hashtags to the query for hashtag statistics. Returns a list of words whose hashtags (i.e., input 'python', check stats for '#python') have received >100K views in the last hour.\n",
    "    \n",
    "    Parameters:\n",
    "    -----------\n",
    "    hashtag_list (list): A list of strings of hashtags to get statistics on.\n",
    "    \n",
    "    Returns:\n",
    "    --------\n",
    "    exposed_hashtag_words (list): A list of strings of words where the hashtag of that word received >100K views in the past hour.\n",
    "    \"\"\"\n",
    "    \n",
    "    # Scrape for hashtags\n",
    "    df = get_hashtag_stats(hashtags=hashtag_list, food_list=food_list)\n",
    "    \n",
    "    # Extract words and words as hashtags\n",
    "    all_words = df.hashtag.tolist()\n",
    "    all_hashtags = ['#' + s for s in all_words]\n",
    "    \n",
    "    # Filter hashtags by those that have been viewed more than the cutoff times in the past hour AND include those that we specified\n",
    "    exposed_hashtags = df[(df.views_per_hour >= cutoff) | (df.hashtag.isin(hashtag_list))]\n",
    "    exposed_hashtags_scrape_list = ['#' + s + ' OR 'if i != len(exposed_hashtags_list) - 1 else '#' + s for i, s in enumerate(exposed_hashtags_list)]\n",
    "    exposed_search_words = \"\".join(exposed_hashtags_scrape_list)\n",
    "    print(f\"Out of the {df.shape[0]} hashtags in the raw data, {exposed_hashtags.shape[0]} received >= {cutoff} views.\")\n",
    "    \n",
    "    return exposed_search_words, exposed_hashtags_scrape_list"
   ]
  },
  {
   "cell_type": "code",
   "execution_count": 61,
   "metadata": {},
   "outputs": [],
   "source": [
    "def scrape_twitter(api, hashtag_list, food_list, cutoff, num_tweets, num_runs, loops):\n",
    "    # Create directory to save the runs to\n",
    "    abspath = os.getcwd()\n",
    "    data_path = os.path.join(abspath, 'data')\n",
    "    run_begin_time = datetime.today().strftime('%Y%m%d_%H%M%S_')\n",
    "    run_path = os.path.join(data_path, run_begin_time + 'run')\n",
    "    os.mkdir(run_path)\n",
    "    \n",
    "    # Loop to run for however many repeats over time set in time_limit\n",
    "    for loop in range(0, loops):\n",
    "        exposed_search_words, exposed_hashtags_scrape_list = scrape_query(hashtag_list=hashtag_list, food_list=food_list, cutoff=cutoff)\n",
    "        scrape_tweets(api, exposed_search_words, num_tweets, num_runs, run_path)\n",
    "\n",
    "    return"
   ]
  },
  {
   "cell_type": "code",
   "execution_count": 62,
   "metadata": {},
   "outputs": [],
   "source": [
    "access_token, access_token_secret, consumer_key, consumer_secret = get_michael_twitter_creds()\n",
    "\n",
    "auth = tweepy.OAuthHandler(consumer_key, consumer_secret)\n",
    "auth.set_access_token(access_token, access_token_secret)\n",
    "api = tweepy.API(auth, wait_on_rate_limit=True)"
   ]
  },
  {
   "cell_type": "code",
   "execution_count": null,
   "metadata": {},
   "outputs": [],
   "source": [
    "hashtag_list=['foodie', 'foodporn', 'food', 'delicious', 'love', 'recipes', 'eating', 'recipe', 'cook', 'cooking', 'restaurant', 'vegan', 'breakfast', 'lunch', 'foodgasm', 'foodies', 'nomnomnom', 'dinner']"
   ]
  },
  {
   "cell_type": "code",
   "execution_count": 64,
   "metadata": {},
   "outputs": [
    {
     "name": "stdout",
     "output_type": "stream",
     "text": [
      "Out of the 18 hashtags in the raw data, 18 received >= 10000 views.\n",
      "no. of tweets scraped for run 1 is 1000\n",
      "time take for 1 run to complete is 0.47 mins\n"
     ]
    },
    {
     "name": "stderr",
     "output_type": "stream",
     "text": [
      "Rate limit reached. Sleeping for: 564\n"
     ]
    },
    {
     "name": "stdout",
     "output_type": "stream",
     "text": [
      "no. of tweets scraped for run 2 is 1000\n",
      "time take for 2 run to complete is 9.8 mins\n",
      "no. of tweets scraped for run 3 is 1000\n",
      "time take for 3 run to complete is 0.38 mins\n",
      "no. of tweets scraped for run 4 is 1000\n",
      "time take for 4 run to complete is 0.37 mins\n"
     ]
    },
    {
     "name": "stderr",
     "output_type": "stream",
     "text": [
      "Rate limit reached. Sleeping for: 840\n"
     ]
    },
    {
     "name": "stdout",
     "output_type": "stream",
     "text": [
      "no. of tweets scraped for run 5 is 1000\n",
      "time take for 5 run to complete is 14.41 mins\n",
      "no. of tweets scraped for run 6 is 1000\n",
      "time take for 6 run to complete is 0.4 mins\n"
     ]
    },
    {
     "name": "stderr",
     "output_type": "stream",
     "text": [
      "Rate limit reached. Sleeping for: 840\n"
     ]
    },
    {
     "name": "stdout",
     "output_type": "stream",
     "text": [
      "no. of tweets scraped for run 7 is 1000\n",
      "time take for 7 run to complete is 14.45 mins\n",
      "no. of tweets scraped for run 8 is 1000\n",
      "time take for 8 run to complete is 0.48 mins\n",
      "no. of tweets scraped for run 9 is 1000\n",
      "time take for 9 run to complete is 0.47 mins\n"
     ]
    },
    {
     "name": "stderr",
     "output_type": "stream",
     "text": [
      "Rate limit reached. Sleeping for: 825\n"
     ]
    },
    {
     "name": "stdout",
     "output_type": "stream",
     "text": [
      "no. of tweets scraped for run 10 is 1000\n",
      "time take for 10 run to complete is 14.22 mins\n",
      "Scraping has completed!\n",
      "Total time taken to scrape is 55.46666666666667 minutes.\n",
      "Out of the 18 hashtags in the raw data, 18 received >= 10000 views.\n",
      "no. of tweets scraped for run 1 is 1000\n",
      "time take for 1 run to complete is 0.44 mins\n"
     ]
    },
    {
     "name": "stderr",
     "output_type": "stream",
     "text": [
      "Rate limit reached. Sleeping for: 824\n"
     ]
    },
    {
     "name": "stdout",
     "output_type": "stream",
     "text": [
      "no. of tweets scraped for run 2 is 1000\n",
      "time take for 2 run to complete is 14.18 mins\n",
      "no. of tweets scraped for run 3 is 1000\n",
      "time take for 3 run to complete is 0.41 mins\n",
      "no. of tweets scraped for run 4 is 1000\n",
      "time take for 4 run to complete is 0.43 mins\n"
     ]
    },
    {
     "name": "stderr",
     "output_type": "stream",
     "text": [
      "Rate limit reached. Sleeping for: 835\n"
     ]
    },
    {
     "name": "stdout",
     "output_type": "stream",
     "text": [
      "no. of tweets scraped for run 5 is 1000\n",
      "time take for 5 run to complete is 14.35 mins\n",
      "no. of tweets scraped for run 6 is 1000\n",
      "time take for 6 run to complete is 0.43 mins\n"
     ]
    },
    {
     "name": "stderr",
     "output_type": "stream",
     "text": [
      "Rate limit reached. Sleeping for: 839\n"
     ]
    },
    {
     "name": "stdout",
     "output_type": "stream",
     "text": [
      "no. of tweets scraped for run 7 is 1000\n",
      "time take for 7 run to complete is 14.41 mins\n",
      "no. of tweets scraped for run 8 is 1000\n",
      "time take for 8 run to complete is 0.45 mins\n",
      "no. of tweets scraped for run 9 is 1000\n",
      "time take for 9 run to complete is 0.44 mins\n"
     ]
    },
    {
     "name": "stderr",
     "output_type": "stream",
     "text": [
      "Rate limit reached. Sleeping for: 831\n"
     ]
    },
    {
     "name": "stdout",
     "output_type": "stream",
     "text": [
      "no. of tweets scraped for run 10 is 1000\n",
      "time take for 10 run to complete is 14.31 mins\n",
      "Scraping has completed!\n",
      "Total time taken to scrape is 59.85 minutes.\n",
      "Out of the 18 hashtags in the raw data, 18 received >= 10000 views.\n",
      "no. of tweets scraped for run 1 is 1000\n",
      "time take for 1 run to complete is 0.41 mins\n"
     ]
    },
    {
     "name": "stderr",
     "output_type": "stream",
     "text": [
      "Rate limit reached. Sleeping for: 828\n"
     ]
    },
    {
     "name": "stdout",
     "output_type": "stream",
     "text": [
      "no. of tweets scraped for run 2 is 1000\n",
      "time take for 2 run to complete is 14.22 mins\n",
      "no. of tweets scraped for run 3 is 1000\n",
      "time take for 3 run to complete is 0.42 mins\n",
      "no. of tweets scraped for run 4 is 1000\n",
      "time take for 4 run to complete is 0.41 mins\n"
     ]
    },
    {
     "name": "stderr",
     "output_type": "stream",
     "text": [
      "Rate limit reached. Sleeping for: 837\n"
     ]
    },
    {
     "name": "stdout",
     "output_type": "stream",
     "text": [
      "no. of tweets scraped for run 5 is 1000\n",
      "time take for 5 run to complete is 14.34 mins\n",
      "no. of tweets scraped for run 6 is 1000\n",
      "time take for 6 run to complete is 0.37 mins\n"
     ]
    },
    {
     "name": "stderr",
     "output_type": "stream",
     "text": [
      "Rate limit reached. Sleeping for: 846\n"
     ]
    },
    {
     "name": "stdout",
     "output_type": "stream",
     "text": [
      "no. of tweets scraped for run 7 is 1000\n",
      "time take for 7 run to complete is 14.49 mins\n",
      "no. of tweets scraped for run 8 is 1000\n",
      "time take for 8 run to complete is 0.38 mins\n",
      "no. of tweets scraped for run 9 is 1000\n",
      "time take for 9 run to complete is 0.38 mins\n"
     ]
    },
    {
     "name": "stderr",
     "output_type": "stream",
     "text": [
      "Rate limit reached. Sleeping for: 840\n"
     ]
    },
    {
     "name": "stdout",
     "output_type": "stream",
     "text": [
      "no. of tweets scraped for run 10 is 1000\n",
      "time take for 10 run to complete is 14.39 mins\n",
      "Scraping has completed!\n",
      "Total time taken to scrape is 59.833333333333336 minutes.\n",
      "Out of the 18 hashtags in the raw data, 18 received >= 10000 views.\n",
      "no. of tweets scraped for run 1 is 1000\n",
      "time take for 1 run to complete is 0.35 mins\n"
     ]
    },
    {
     "name": "stderr",
     "output_type": "stream",
     "text": [
      "Rate limit reached. Sleeping for: 836\n"
     ]
    },
    {
     "name": "stdout",
     "output_type": "stream",
     "text": [
      "no. of tweets scraped for run 2 is 1000\n",
      "time take for 2 run to complete is 14.3 mins\n",
      "no. of tweets scraped for run 3 is 1000\n",
      "time take for 3 run to complete is 0.36 mins\n",
      "no. of tweets scraped for run 4 is 1000\n",
      "time take for 4 run to complete is 0.36 mins\n"
     ]
    },
    {
     "name": "stderr",
     "output_type": "stream",
     "text": [
      "Rate limit reached. Sleeping for: 842\n"
     ]
    },
    {
     "name": "stdout",
     "output_type": "stream",
     "text": [
      "no. of tweets scraped for run 5 is 1000\n",
      "time take for 5 run to complete is 14.43 mins\n",
      "no. of tweets scraped for run 6 is 1000\n",
      "time take for 6 run to complete is 0.37 mins\n"
     ]
    },
    {
     "name": "stderr",
     "output_type": "stream",
     "text": [
      "Rate limit reached. Sleeping for: 845\n"
     ]
    },
    {
     "name": "stdout",
     "output_type": "stream",
     "text": [
      "no. of tweets scraped for run 7 is 1000\n",
      "time take for 7 run to complete is 14.47 mins\n",
      "no. of tweets scraped for run 8 is 1000\n",
      "time take for 8 run to complete is 0.38 mins\n",
      "no. of tweets scraped for run 9 is 1000\n",
      "time take for 9 run to complete is 0.38 mins\n"
     ]
    },
    {
     "name": "stderr",
     "output_type": "stream",
     "text": [
      "Rate limit reached. Sleeping for: 840\n"
     ]
    },
    {
     "name": "stdout",
     "output_type": "stream",
     "text": [
      "no. of tweets scraped for run 10 is 1000\n",
      "time take for 10 run to complete is 14.39 mins\n",
      "Scraping has completed!\n",
      "Total time taken to scrape is 59.8 minutes.\n",
      "Out of the 18 hashtags in the raw data, 18 received >= 10000 views.\n",
      "no. of tweets scraped for run 1 is 1000\n",
      "time take for 1 run to complete is 0.36 mins\n",
      "no. of tweets scraped for run 2 is 1000\n",
      "time take for 2 run to complete is 0.35 mins\n"
     ]
    },
    {
     "name": "stderr",
     "output_type": "stream",
     "text": [
      "Rate limit reached. Sleeping for: 832\n"
     ]
    },
    {
     "name": "stdout",
     "output_type": "stream",
     "text": [
      "no. of tweets scraped for run 3 is 1000\n",
      "time take for 3 run to complete is 14.26 mins\n",
      "no. of tweets scraped for run 4 is 1000\n",
      "time take for 4 run to complete is 0.36 mins\n"
     ]
    },
    {
     "name": "stderr",
     "output_type": "stream",
     "text": [
      "Rate limit reached. Sleeping for: 845\n"
     ]
    },
    {
     "name": "stdout",
     "output_type": "stream",
     "text": [
      "no. of tweets scraped for run 5 is 1000\n",
      "time take for 5 run to complete is 14.48 mins\n",
      "no. of tweets scraped for run 6 is 1000\n",
      "time take for 6 run to complete is 0.38 mins\n",
      "no. of tweets scraped for run 7 is 1000\n",
      "time take for 7 run to complete is 0.37 mins\n"
     ]
    },
    {
     "name": "stderr",
     "output_type": "stream",
     "text": [
      "Rate limit reached. Sleeping for: 841\n"
     ]
    },
    {
     "name": "stdout",
     "output_type": "stream",
     "text": [
      "no. of tweets scraped for run 8 is 1000\n",
      "time take for 8 run to complete is 14.42 mins\n",
      "no. of tweets scraped for run 9 is 1000\n",
      "time take for 9 run to complete is 0.38 mins\n"
     ]
    },
    {
     "name": "stderr",
     "output_type": "stream",
     "text": [
      "Rate limit reached. Sleeping for: 843\n"
     ]
    },
    {
     "name": "stdout",
     "output_type": "stream",
     "text": [
      "no. of tweets scraped for run 10 is 1000\n",
      "time take for 10 run to complete is 14.46 mins\n",
      "Scraping has completed!\n",
      "Total time taken to scrape is 59.833333333333336 minutes.\n",
      "Out of the 18 hashtags in the raw data, 18 received >= 10000 views.\n",
      "no. of tweets scraped for run 1 is 1000\n",
      "time take for 1 run to complete is 0.35 mins\n",
      "no. of tweets scraped for run 2 is 1000\n",
      "time take for 2 run to complete is 0.35 mins\n"
     ]
    },
    {
     "name": "stderr",
     "output_type": "stream",
     "text": [
      "Rate limit reached. Sleeping for: 829\n"
     ]
    },
    {
     "name": "stdout",
     "output_type": "stream",
     "text": [
      "no. of tweets scraped for run 3 is 1000\n",
      "time take for 3 run to complete is 14.21 mins\n",
      "no. of tweets scraped for run 4 is 1000\n",
      "time take for 4 run to complete is 0.37 mins\n"
     ]
    },
    {
     "name": "stderr",
     "output_type": "stream",
     "text": [
      "Rate limit reached. Sleeping for: 845\n"
     ]
    },
    {
     "name": "stdout",
     "output_type": "stream",
     "text": [
      "no. of tweets scraped for run 5 is 1000\n",
      "time take for 5 run to complete is 14.48 mins\n",
      "no. of tweets scraped for run 6 is 1000\n",
      "time take for 6 run to complete is 0.37 mins\n",
      "no. of tweets scraped for run 7 is 1000\n",
      "time take for 7 run to complete is 0.37 mins\n"
     ]
    },
    {
     "name": "stderr",
     "output_type": "stream",
     "text": [
      "Rate limit reached. Sleeping for: 841\n"
     ]
    },
    {
     "name": "stdout",
     "output_type": "stream",
     "text": [
      "no. of tweets scraped for run 8 is 1000\n",
      "time take for 8 run to complete is 14.44 mins\n",
      "no. of tweets scraped for run 9 is 1000\n",
      "time take for 9 run to complete is 0.37 mins\n"
     ]
    },
    {
     "name": "stderr",
     "output_type": "stream",
     "text": [
      "Rate limit reached. Sleeping for: 842\n"
     ]
    },
    {
     "name": "stdout",
     "output_type": "stream",
     "text": [
      "no. of tweets scraped for run 10 is 1000\n",
      "time take for 10 run to complete is 14.44 mins\n",
      "Scraping has completed!\n",
      "Total time taken to scrape is 59.75 minutes.\n",
      "Out of the 18 hashtags in the raw data, 18 received >= 10000 views.\n",
      "no. of tweets scraped for run 1 is 1000\n",
      "time take for 1 run to complete is 0.36 mins\n",
      "no. of tweets scraped for run 2 is 1000\n",
      "time take for 2 run to complete is 0.36 mins\n"
     ]
    },
    {
     "name": "stderr",
     "output_type": "stream",
     "text": [
      "Rate limit reached. Sleeping for: 832\n"
     ]
    },
    {
     "name": "stdout",
     "output_type": "stream",
     "text": [
      "no. of tweets scraped for run 3 is 1000\n",
      "time take for 3 run to complete is 14.26 mins\n",
      "no. of tweets scraped for run 4 is 1000\n",
      "time take for 4 run to complete is 0.37 mins\n"
     ]
    },
    {
     "name": "stderr",
     "output_type": "stream",
     "text": [
      "Rate limit reached. Sleeping for: 845\n"
     ]
    },
    {
     "name": "stdout",
     "output_type": "stream",
     "text": [
      "no. of tweets scraped for run 5 is 1000\n",
      "time take for 5 run to complete is 14.47 mins\n",
      "no. of tweets scraped for run 6 is 1000\n",
      "time take for 6 run to complete is 0.4 mins\n",
      "no. of tweets scraped for run 7 is 1000\n",
      "time take for 7 run to complete is 0.4 mins\n"
     ]
    },
    {
     "name": "stderr",
     "output_type": "stream",
     "text": [
      "Rate limit reached. Sleeping for: 837\n"
     ]
    },
    {
     "name": "stdout",
     "output_type": "stream",
     "text": [
      "no. of tweets scraped for run 8 is 1000\n",
      "time take for 8 run to complete is 14.39 mins\n",
      "no. of tweets scraped for run 9 is 1000\n",
      "time take for 9 run to complete is 0.41 mins\n"
     ]
    },
    {
     "name": "stderr",
     "output_type": "stream",
     "text": [
      "Rate limit reached. Sleeping for: 839\n"
     ]
    },
    {
     "name": "stdout",
     "output_type": "stream",
     "text": [
      "no. of tweets scraped for run 10 is 1000\n",
      "time take for 10 run to complete is 14.41 mins\n",
      "Scraping has completed!\n",
      "Total time taken to scrape is 59.81666666666667 minutes.\n",
      "Out of the 18 hashtags in the raw data, 18 received >= 10000 views.\n",
      "no. of tweets scraped for run 1 is 1000\n",
      "time take for 1 run to complete is 0.4 mins\n",
      "no. of tweets scraped for run 2 is 1000\n",
      "time take for 2 run to complete is 0.39 mins\n"
     ]
    },
    {
     "name": "stderr",
     "output_type": "stream",
     "text": [
      "Rate limit reached. Sleeping for: 827\n"
     ]
    },
    {
     "name": "stdout",
     "output_type": "stream",
     "text": [
      "no. of tweets scraped for run 3 is 1000\n",
      "time take for 3 run to complete is 14.21 mins\n",
      "no. of tweets scraped for run 4 is 1000\n",
      "time take for 4 run to complete is 0.39 mins\n"
     ]
    },
    {
     "name": "stderr",
     "output_type": "stream",
     "text": [
      "Rate limit reached. Sleeping for: 841\n"
     ]
    },
    {
     "name": "stdout",
     "output_type": "stream",
     "text": [
      "no. of tweets scraped for run 5 is 1000\n",
      "time take for 5 run to complete is 14.43 mins\n",
      "no. of tweets scraped for run 6 is 1000\n",
      "time take for 6 run to complete is 0.4 mins\n",
      "no. of tweets scraped for run 7 is 1000\n",
      "time take for 7 run to complete is 0.41 mins\n"
     ]
    },
    {
     "name": "stderr",
     "output_type": "stream",
     "text": [
      "Rate limit reached. Sleeping for: 835\n"
     ]
    },
    {
     "name": "stdout",
     "output_type": "stream",
     "text": [
      "no. of tweets scraped for run 8 is 1000\n",
      "time take for 8 run to complete is 14.37 mins\n",
      "no. of tweets scraped for run 9 is 1000\n",
      "time take for 9 run to complete is 0.42 mins\n",
      "no. of tweets scraped for run 10 is 1000\n",
      "time take for 10 run to complete is 0.42 mins\n",
      "Scraping has completed!\n",
      "Total time taken to scrape is 45.85 minutes.\n",
      "Out of the 18 hashtags in the raw data, 18 received >= 10000 views.\n"
     ]
    },
    {
     "name": "stderr",
     "output_type": "stream",
     "text": [
      "Rate limit reached. Sleeping for: 821\n"
     ]
    },
    {
     "name": "stdout",
     "output_type": "stream",
     "text": [
      "no. of tweets scraped for run 1 is 1000\n",
      "time take for 1 run to complete is 14.08 mins\n",
      "no. of tweets scraped for run 2 is 1000\n",
      "time take for 2 run to complete is 0.38 mins\n"
     ]
    },
    {
     "name": "stderr",
     "output_type": "stream",
     "text": [
      "Rate limit reached. Sleeping for: 844\n"
     ]
    },
    {
     "name": "stdout",
     "output_type": "stream",
     "text": [
      "no. of tweets scraped for run 3 is 1000\n",
      "time take for 3 run to complete is 14.47 mins\n",
      "no. of tweets scraped for run 4 is 1000\n",
      "time take for 4 run to complete is 0.39 mins\n",
      "no. of tweets scraped for run 5 is 1000\n",
      "time take for 5 run to complete is 0.39 mins\n"
     ]
    },
    {
     "name": "stderr",
     "output_type": "stream",
     "text": [
      "Rate limit reached. Sleeping for: 837\n"
     ]
    },
    {
     "name": "stdout",
     "output_type": "stream",
     "text": [
      "no. of tweets scraped for run 6 is 1000\n",
      "time take for 6 run to complete is 14.37 mins\n",
      "no. of tweets scraped for run 7 is 1000\n",
      "time take for 7 run to complete is 0.4 mins\n"
     ]
    },
    {
     "name": "stderr",
     "output_type": "stream",
     "text": [
      "Rate limit reached. Sleeping for: 842\n"
     ]
    },
    {
     "name": "stdout",
     "output_type": "stream",
     "text": [
      "no. of tweets scraped for run 8 is 1000\n",
      "time take for 8 run to complete is 14.47 mins\n",
      "no. of tweets scraped for run 9 is 1000\n",
      "time take for 9 run to complete is 0.41 mins\n",
      "no. of tweets scraped for run 10 is 1000\n",
      "time take for 10 run to complete is 0.41 mins\n",
      "Scraping has completed!\n",
      "Total time taken to scrape is 59.766666666666666 minutes.\n",
      "Out of the 18 hashtags in the raw data, 18 received >= 10000 views.\n"
     ]
    },
    {
     "name": "stderr",
     "output_type": "stream",
     "text": [
      "Rate limit reached. Sleeping for: 824\n"
     ]
    },
    {
     "name": "stdout",
     "output_type": "stream",
     "text": [
      "no. of tweets scraped for run 1 is 1000\n",
      "time take for 1 run to complete is 14.12 mins\n",
      "no. of tweets scraped for run 2 is 1000\n",
      "time take for 2 run to complete is 0.38 mins\n"
     ]
    },
    {
     "name": "stderr",
     "output_type": "stream",
     "text": [
      "Rate limit reached. Sleeping for: 844\n"
     ]
    },
    {
     "name": "stdout",
     "output_type": "stream",
     "text": [
      "no. of tweets scraped for run 3 is 1000\n",
      "time take for 3 run to complete is 14.47 mins\n",
      "no. of tweets scraped for run 4 is 1000\n",
      "time take for 4 run to complete is 0.39 mins\n",
      "no. of tweets scraped for run 5 is 1000\n",
      "time take for 5 run to complete is 0.39 mins\n"
     ]
    },
    {
     "name": "stderr",
     "output_type": "stream",
     "text": [
      "Rate limit reached. Sleeping for: 838\n"
     ]
    },
    {
     "name": "stdout",
     "output_type": "stream",
     "text": [
      "no. of tweets scraped for run 6 is 1000\n",
      "time take for 6 run to complete is 14.38 mins\n",
      "no. of tweets scraped for run 7 is 1000\n",
      "time take for 7 run to complete is 0.39 mins\n"
     ]
    },
    {
     "name": "stderr",
     "output_type": "stream",
     "text": [
      "Rate limit reached. Sleeping for: 843\n"
     ]
    },
    {
     "name": "stdout",
     "output_type": "stream",
     "text": [
      "no. of tweets scraped for run 8 is 1000\n",
      "time take for 8 run to complete is 14.44 mins\n",
      "no. of tweets scraped for run 9 is 1000\n",
      "time take for 9 run to complete is 0.37 mins\n",
      "no. of tweets scraped for run 10 is 1000\n",
      "time take for 10 run to complete is 0.37 mins\n",
      "Scraping has completed!\n",
      "Total time taken to scrape is 59.7 minutes.\n"
     ]
    }
   ],
   "source": [
    "# Scrape tweets (can only scrape 500 characters at at time)\n",
    "scrape_twitter(api=api, hashtag_list=hashtag_list, food_list = False, cutoff=10000, num_tweets=1000, num_runs=10, loops=10) # Takes about 10 hours to run, getting about 33% hits on tweets we want"
   ]
  },
  {
   "cell_type": "code",
   "execution_count": 4,
   "metadata": {},
   "outputs": [],
   "source": [
    "def stitch_frames(data_path):\n",
    "    frames = []\n",
    "    for subdir, dirs, files in os.walk(data_path):\n",
    "        for file in files:\n",
    "            if subdir.endswith('scrape_run') and file.endswith('tweets.csv'):\n",
    "                path = os.path.join(subdir, file)\n",
    "                df = pd.read_csv(path, index_col=None, header=0)\n",
    "                frames.append(df)\n",
    "    df = pd.concat(frames, axis=0, ignore_index=True)\n",
    "    return df"
   ]
  },
  {
   "cell_type": "code",
   "execution_count": 18,
   "metadata": {},
   "outputs": [],
   "source": [
    "def clean_data():\n",
    "    # Read in data\n",
    "    df = stitch_frames(data_path)\n",
    "\n",
    "    # Expand list of hashtag dictionaries\n",
    "    df.hashtags = df.hashtags.apply(literal_eval)\n",
    "    df = df.explode('hashtags').reset_index(drop=True)\n",
    "\n",
    "    # Drop nas\n",
    "    df = df.dropna(subset=['hashtags']).reset_index(drop=True)\n",
    "\n",
    "    # Flatten hashtag dictionaries\n",
    "    df = pd.json_normalize(df.to_dict(orient='records'), sep='_')\n",
    "\n",
    "    # Only keep rows that have the hashtags we searched for\n",
    "    df = df[df['hashtags_text'].isin(hashtag_list)].reset_index(drop=True)\n",
    "    # df = df[df['hashtag'].isin(exposed_hashtags_list)]\n",
    "    # df = df[df['hashtag'].isin(less_exposed_hashtags_list)]\n",
    "    # df = df[df['hashtag'].isin(all_hashtags)]\n",
    "\n",
    "    # Drop string nans\n",
    "    df = df[df['hashtags_text'] != 'nan']\n",
    "\n",
    "    # Remove emojis\n",
    "    df = df.astype(str).apply(lambda x: x.str.encode('ascii', 'ignore').str.decode('ascii'))\n",
    "\n",
    "    # Add sentiment column\n",
    "    df['sentiment'] = df.tweet_text.apply(lambda x: TextBlob(x).sentiment[0])\n",
    "\n",
    "    # Change columns to numeric\n",
    "    df[['tweet_id', 'favorite_count', 'retweet_count', 'sentiment']] = df[['tweet_id', 'favorite_count', 'retweet_count', 'sentiment']].apply(pd.to_numeric)\n",
    "\n",
    "    # Write to directory\n",
    "    to_csv_timestamp = datetime.today().strftime('%Y%m%d_%H%M%S_')\n",
    "    file_name = os.path.join(data_path, to_csv_timestamp + 'clean_scraping_custom_hashtags_data.csv')\n",
    "    df.to_csv(file_name, encoding='utf-8-sig')\n",
    "    return df"
   ]
  },
  {
   "cell_type": "code",
   "execution_count": 23,
   "metadata": {},
   "outputs": [
    {
     "data": {
      "text/html": [
       "<div>\n",
       "<style scoped>\n",
       "    .dataframe tbody tr th:only-of-type {\n",
       "        vertical-align: middle;\n",
       "    }\n",
       "\n",
       "    .dataframe tbody tr th {\n",
       "        vertical-align: top;\n",
       "    }\n",
       "\n",
       "    .dataframe thead th {\n",
       "        text-align: right;\n",
       "    }\n",
       "</style>\n",
       "<table border=\"1\" class=\"dataframe\">\n",
       "  <thead>\n",
       "    <tr style=\"text-align: right;\">\n",
       "      <th></th>\n",
       "      <th>created_time</th>\n",
       "      <th>tweet_id</th>\n",
       "      <th>handle_name</th>\n",
       "      <th>name</th>\n",
       "      <th>location</th>\n",
       "      <th>tweet_text</th>\n",
       "      <th>favorite_count</th>\n",
       "      <th>retweet_count</th>\n",
       "      <th>replied_tweet_screen_name_str</th>\n",
       "      <th>quote_tweet_bool</th>\n",
       "      <th>geo</th>\n",
       "      <th>hashtags_text</th>\n",
       "      <th>hashtags_indices</th>\n",
       "      <th>sentiment</th>\n",
       "    </tr>\n",
       "  </thead>\n",
       "  <tbody>\n",
       "    <tr>\n",
       "      <th>0</th>\n",
       "      <td>2021-10-25 23:59:46+00:00</td>\n",
       "      <td>1452786996385132544</td>\n",
       "      <td>MoonluBoutique</td>\n",
       "      <td>Moonlu Boutique</td>\n",
       "      <td>nan</td>\n",
       "      <td>#hair #specialists #wigs #extensions #eyelashe...</td>\n",
       "      <td>0</td>\n",
       "      <td>0</td>\n",
       "      <td>nan</td>\n",
       "      <td>False</td>\n",
       "      <td>nan</td>\n",
       "      <td>love</td>\n",
       "      <td>[88, 93]</td>\n",
       "      <td>0.350000</td>\n",
       "    </tr>\n",
       "    <tr>\n",
       "      <th>1</th>\n",
       "      <td>2021-10-25 23:59:23+00:00</td>\n",
       "      <td>1452786900562071552</td>\n",
       "      <td>veganfuture</td>\n",
       "      <td>Vegan Future</td>\n",
       "      <td>nan</td>\n",
       "      <td>RT @Rachael57354278: In the ways that matter w...</td>\n",
       "      <td>0</td>\n",
       "      <td>24</td>\n",
       "      <td>nan</td>\n",
       "      <td>False</td>\n",
       "      <td>nan</td>\n",
       "      <td>love</td>\n",
       "      <td>[69, 74]</td>\n",
       "      <td>0.250000</td>\n",
       "    </tr>\n",
       "    <tr>\n",
       "      <th>2</th>\n",
       "      <td>2021-10-25 23:59:23+00:00</td>\n",
       "      <td>1452786900562071552</td>\n",
       "      <td>veganfuture</td>\n",
       "      <td>Vegan Future</td>\n",
       "      <td>nan</td>\n",
       "      <td>RT @Rachael57354278: In the ways that matter w...</td>\n",
       "      <td>0</td>\n",
       "      <td>24</td>\n",
       "      <td>nan</td>\n",
       "      <td>False</td>\n",
       "      <td>nan</td>\n",
       "      <td>vegan</td>\n",
       "      <td>[109, 115]</td>\n",
       "      <td>0.250000</td>\n",
       "    </tr>\n",
       "    <tr>\n",
       "      <th>3</th>\n",
       "      <td>2021-10-25 23:59:02+00:00</td>\n",
       "      <td>1452786812250849280</td>\n",
       "      <td>SallyHuss</td>\n",
       "      <td>Sally Huss</td>\n",
       "      <td>Colorado Springs, CO</td>\n",
       "      <td>RT @SallyHuss: A book for every child\\nhttps:/...</td>\n",
       "      <td>0</td>\n",
       "      <td>1</td>\n",
       "      <td>nan</td>\n",
       "      <td>False</td>\n",
       "      <td>nan</td>\n",
       "      <td>love</td>\n",
       "      <td>[83, 88]</td>\n",
       "      <td>0.500000</td>\n",
       "    </tr>\n",
       "    <tr>\n",
       "      <th>4</th>\n",
       "      <td>2021-10-25 23:59:00+00:00</td>\n",
       "      <td>1452786803988213760</td>\n",
       "      <td>exceptionalfood</td>\n",
       "      <td>Gourmet Delights</td>\n",
       "      <td>nan</td>\n",
       "      <td>Canded Pears \\n\\nhttps://t.co/3R1BeX6boq\\n\\n#M...</td>\n",
       "      <td>0</td>\n",
       "      <td>0</td>\n",
       "      <td>nan</td>\n",
       "      <td>False</td>\n",
       "      <td>nan</td>\n",
       "      <td>foodies</td>\n",
       "      <td>[56, 64]</td>\n",
       "      <td>0.000000</td>\n",
       "    </tr>\n",
       "    <tr>\n",
       "      <th>...</th>\n",
       "      <td>...</td>\n",
       "      <td>...</td>\n",
       "      <td>...</td>\n",
       "      <td>...</td>\n",
       "      <td>...</td>\n",
       "      <td>...</td>\n",
       "      <td>...</td>\n",
       "      <td>...</td>\n",
       "      <td>...</td>\n",
       "      <td>...</td>\n",
       "      <td>...</td>\n",
       "      <td>...</td>\n",
       "      <td>...</td>\n",
       "      <td>...</td>\n",
       "    </tr>\n",
       "    <tr>\n",
       "      <th>224683</th>\n",
       "      <td>2021-10-25 22:58:13+00:00</td>\n",
       "      <td>1452771508670042113</td>\n",
       "      <td>JoseMat55691069</td>\n",
       "      <td>Jose Mateo</td>\n",
       "      <td>nan</td>\n",
       "      <td>From mac and cheese to sloppy joes, these reci...</td>\n",
       "      <td>0</td>\n",
       "      <td>0</td>\n",
       "      <td>nan</td>\n",
       "      <td>False</td>\n",
       "      <td>nan</td>\n",
       "      <td>delicious</td>\n",
       "      <td>[84, 94]</td>\n",
       "      <td>0.291667</td>\n",
       "    </tr>\n",
       "    <tr>\n",
       "      <th>224684</th>\n",
       "      <td>2021-10-25 22:58:12+00:00</td>\n",
       "      <td>1452771505893429250</td>\n",
       "      <td>drewbrews</td>\n",
       "      <td>drew froning</td>\n",
       "      <td>Kent, OH, USA</td>\n",
       "      <td>Breakfast at Jammin Crepes in Princeton #delic...</td>\n",
       "      <td>0</td>\n",
       "      <td>0</td>\n",
       "      <td>nan</td>\n",
       "      <td>False</td>\n",
       "      <td>{'type': 'Point', 'coordinates': [40.349007, -...</td>\n",
       "      <td>delicious</td>\n",
       "      <td>[41, 51]</td>\n",
       "      <td>1.000000</td>\n",
       "    </tr>\n",
       "    <tr>\n",
       "      <th>224685</th>\n",
       "      <td>2021-10-25 22:58:11+00:00</td>\n",
       "      <td>1452771499102855172</td>\n",
       "      <td>brunetteblondez</td>\n",
       "      <td>Munchkin</td>\n",
       "      <td>nan</td>\n",
       "      <td>All I want is love that last is there somethin...</td>\n",
       "      <td>0</td>\n",
       "      <td>0</td>\n",
       "      <td>nan</td>\n",
       "      <td>False</td>\n",
       "      <td>nan</td>\n",
       "      <td>love</td>\n",
       "      <td>[62, 67]</td>\n",
       "      <td>0.125000</td>\n",
       "    </tr>\n",
       "    <tr>\n",
       "      <th>224686</th>\n",
       "      <td>2021-10-25 22:58:06+00:00</td>\n",
       "      <td>1452771477879549953</td>\n",
       "      <td>Caruth_Convos</td>\n",
       "      <td>Caruth Conversations</td>\n",
       "      <td>San Diego, CA</td>\n",
       "      <td>https://t.co/uhh7lGSIBe Quotes from our upcomi...</td>\n",
       "      <td>0</td>\n",
       "      <td>0</td>\n",
       "      <td>nan</td>\n",
       "      <td>False</td>\n",
       "      <td>nan</td>\n",
       "      <td>love</td>\n",
       "      <td>[72, 77]</td>\n",
       "      <td>0.500000</td>\n",
       "    </tr>\n",
       "    <tr>\n",
       "      <th>224687</th>\n",
       "      <td>2021-10-25 22:57:49+00:00</td>\n",
       "      <td>1452771406702206980</td>\n",
       "      <td>Sassafrasdreams</td>\n",
       "      <td>Molly Makens</td>\n",
       "      <td>Minor Outlying Islands, USA</td>\n",
       "      <td>RT @k13mc78: So my #vegan mamma just said oh n...</td>\n",
       "      <td>0</td>\n",
       "      <td>14</td>\n",
       "      <td>nan</td>\n",
       "      <td>False</td>\n",
       "      <td>nan</td>\n",
       "      <td>vegan</td>\n",
       "      <td>[19, 25]</td>\n",
       "      <td>-0.100000</td>\n",
       "    </tr>\n",
       "  </tbody>\n",
       "</table>\n",
       "<p>224688 rows × 14 columns</p>\n",
       "</div>"
      ],
      "text/plain": [
       "                     created_time             tweet_id      handle_name  \\\n",
       "0       2021-10-25 23:59:46+00:00  1452786996385132544   MoonluBoutique   \n",
       "1       2021-10-25 23:59:23+00:00  1452786900562071552      veganfuture   \n",
       "2       2021-10-25 23:59:23+00:00  1452786900562071552      veganfuture   \n",
       "3       2021-10-25 23:59:02+00:00  1452786812250849280        SallyHuss   \n",
       "4       2021-10-25 23:59:00+00:00  1452786803988213760  exceptionalfood   \n",
       "...                           ...                  ...              ...   \n",
       "224683  2021-10-25 22:58:13+00:00  1452771508670042113  JoseMat55691069   \n",
       "224684  2021-10-25 22:58:12+00:00  1452771505893429250        drewbrews   \n",
       "224685  2021-10-25 22:58:11+00:00  1452771499102855172  brunetteblondez   \n",
       "224686  2021-10-25 22:58:06+00:00  1452771477879549953    Caruth_Convos   \n",
       "224687  2021-10-25 22:57:49+00:00  1452771406702206980  Sassafrasdreams   \n",
       "\n",
       "                        name                     location  \\\n",
       "0            Moonlu Boutique                          nan   \n",
       "1               Vegan Future                          nan   \n",
       "2               Vegan Future                          nan   \n",
       "3                 Sally Huss         Colorado Springs, CO   \n",
       "4           Gourmet Delights                          nan   \n",
       "...                      ...                          ...   \n",
       "224683            Jose Mateo                          nan   \n",
       "224684          drew froning                Kent, OH, USA   \n",
       "224685             Munchkin                           nan   \n",
       "224686  Caruth Conversations                San Diego, CA   \n",
       "224687          Molly Makens  Minor Outlying Islands, USA   \n",
       "\n",
       "                                               tweet_text  favorite_count  \\\n",
       "0       #hair #specialists #wigs #extensions #eyelashe...               0   \n",
       "1       RT @Rachael57354278: In the ways that matter w...               0   \n",
       "2       RT @Rachael57354278: In the ways that matter w...               0   \n",
       "3       RT @SallyHuss: A book for every child\\nhttps:/...               0   \n",
       "4       Canded Pears \\n\\nhttps://t.co/3R1BeX6boq\\n\\n#M...               0   \n",
       "...                                                   ...             ...   \n",
       "224683  From mac and cheese to sloppy joes, these reci...               0   \n",
       "224684  Breakfast at Jammin Crepes in Princeton #delic...               0   \n",
       "224685  All I want is love that last is there somethin...               0   \n",
       "224686  https://t.co/uhh7lGSIBe Quotes from our upcomi...               0   \n",
       "224687  RT @k13mc78: So my #vegan mamma just said oh n...               0   \n",
       "\n",
       "        retweet_count replied_tweet_screen_name_str quote_tweet_bool  \\\n",
       "0                   0                           nan            False   \n",
       "1                  24                           nan            False   \n",
       "2                  24                           nan            False   \n",
       "3                   1                           nan            False   \n",
       "4                   0                           nan            False   \n",
       "...               ...                           ...              ...   \n",
       "224683              0                           nan            False   \n",
       "224684              0                           nan            False   \n",
       "224685              0                           nan            False   \n",
       "224686              0                           nan            False   \n",
       "224687             14                           nan            False   \n",
       "\n",
       "                                                      geo hashtags_text  \\\n",
       "0                                                     nan          love   \n",
       "1                                                     nan          love   \n",
       "2                                                     nan         vegan   \n",
       "3                                                     nan          love   \n",
       "4                                                     nan       foodies   \n",
       "...                                                   ...           ...   \n",
       "224683                                                nan     delicious   \n",
       "224684  {'type': 'Point', 'coordinates': [40.349007, -...     delicious   \n",
       "224685                                                nan          love   \n",
       "224686                                                nan          love   \n",
       "224687                                                nan         vegan   \n",
       "\n",
       "       hashtags_indices  sentiment  \n",
       "0              [88, 93]   0.350000  \n",
       "1              [69, 74]   0.250000  \n",
       "2            [109, 115]   0.250000  \n",
       "3              [83, 88]   0.500000  \n",
       "4              [56, 64]   0.000000  \n",
       "...                 ...        ...  \n",
       "224683         [84, 94]   0.291667  \n",
       "224684         [41, 51]   1.000000  \n",
       "224685         [62, 67]   0.125000  \n",
       "224686         [72, 77]   0.500000  \n",
       "224687         [19, 25]  -0.100000  \n",
       "\n",
       "[224688 rows x 14 columns]"
      ]
     },
     "execution_count": 23,
     "metadata": {},
     "output_type": "execute_result"
    }
   ],
   "source": [
    "clean_data()"
   ]
  },
  {
   "cell_type": "code",
   "execution_count": 22,
   "metadata": {},
   "outputs": [
    {
     "data": {
      "image/png": "[encoded data removed]",
      "text/plain": [
       "<Figure size 720x720 with 1 Axes>"
      ]
     },
     "metadata": {
      "needs_background": "light"
     },
     "output_type": "display_data"
    }
   ],
   "source": [
    "# Get string of hashtags\n",
    "text = \" \".join(hashtag for hashtag in df.hashtags_text)\n",
    "\n",
    "# Generate wordcloud image\n",
    "stopwords = set(STOPWORDS)\n",
    "wordcloud = WordCloud(stopwords=stopwords, max_font_size=100, max_words=100, background_color=\"black\", mode=\"RGBA\").generate(text)\n",
    "\n",
    "# Display wordcloud image\n",
    "plt.figure(figsize=[10,10])\n",
    "plt.imshow(wordcloud, interpolation='bilinear')\n",
    "plt.axis(\"off\")\n",
    "image_path = r'C:\\Users\\raide\\OneDrive\\Documents\\GitHub\\capstone_project\\images'\n",
    "data_files = [f.rsplit('.', 1)[0] for f in listdir(data_path) if isfile(join(data_path, f))]\n",
    "# plt.savefig(image_path + '//' + data_files[-1] + '.png', format=\"png\")\n",
    "plt.show()"
   ]
  },
  {
   "cell_type": "code",
   "execution_count": null,
   "metadata": {},
   "outputs": [],
   "source": []
  }
 ],
 "metadata": {
  "interpreter": {
   "hash": "05811a4c8edeb62e87c3e708461cae05c65dc4bb514779bc955273fc84b8bc5c"
  },
  "kernelspec": {
   "display_name": "Python 3.8.12 64-bit (conda)",
   "name": "python3"
  },
  "language_info": {
   "codemirror_mode": {
    "name": "ipython",
    "version": 3
   },
   "file_extension": ".py",
   "mimetype": "text/x-python",
   "name": "python",
   "nbconvert_exporter": "python",
   "pygments_lexer": "ipython3",
   "version": "3.8.12"
  },
  "orig_nbformat": 4
 },
 "nbformat": 4,
 "nbformat_minor": 2
}
